{
 "cells": [
  {
   "cell_type": "markdown",
   "metadata": {
    "slideshow": {
     "slide_type": "slide"
    }
   },
   "source": [
    "<center>\n",
    "<img src=\"https://media.giphy.com/media/Wj7lNjMNDxSmc/giphy.gif\"  align=\"center\"/>\n",
    "<h2>Hi!</h2>\n",
    "</center>"
   ]
  },
  {
   "cell_type": "markdown",
   "metadata": {
    "slideshow": {
     "slide_type": "slide"
    }
   },
   "source": [
    "# Me? Who?\n",
    "\n",
    "<br/>\n",
    "<br/>\n",
    "\n",
    "- ❤️ NLP \n",
    "- 🖤 Arctic Monkeys\n",
    "- Final Year Student waiting for the world to end because I don't want to give exams\n",
    "\n",
    "<br/>\n",
    "<br/>\n",
    "\n",
    "- ex-NLP Intern at [Verloop.io](verloop.io)\n",
    "- Previously gave a talk at PyData on custom name extractor for chat-based conversations\n",
    "- 12th on the global leaderboard for SemEval's sentimix task (phase one)\n",
    "- One of the owners of NLP Data API for covid19india.org\n",
    "\n",
    "<br/>\n",
    "<br/>\n",
    "\n",
    "- ✨ @meghanabhange\n",
    "- 📨 meghanabhange13@gmail.com\n"
   ]
  },
  {
   "cell_type": "markdown",
   "metadata": {
    "slideshow": {
     "slide_type": "notes"
    }
   },
   "source": [
    "# This talk is going to be sectioned in three parts\n",
    "<br/>\n",
    "\n",
    "- The Data Collection--How to get your lyrics\n",
    "- The training model and understand a bit about transfer learning buzzwords\n",
    "- Using the trained model to make our generator\n",
    "\n",
    "<br />\n",
    "\n",
    "### It's also a walkthrough of the three notebooks that you can directly use to create a lyric generator for the artist you want"
   ]
  },
  {
   "cell_type": "markdown",
   "metadata": {
    "slideshow": {
     "slide_type": "slide"
    }
   },
   "source": [
    "# ~Arctic Monkeys~ <<The artist you ❤️>> lyrics generator"
   ]
  },
  {
   "cell_type": "markdown",
   "metadata": {
    "slideshow": {
     "slide_type": "notes"
    }
   },
   "source": [
    "What we are trying to do here is create a next word/sentence predictor based on initial text data. However when dealing with something like lyrics you don't have a lot of data to work with, so we are going to try two different workarounds \n",
    "\n",
    "<br />\n",
    "\n",
    "- Text Augmentation\n",
    "- Transfer Learning"
   ]
  },
  {
   "cell_type": "markdown",
   "metadata": {
    "slideshow": {
     "slide_type": "subslide"
    }
   },
   "source": [
    "<center>\n",
    "<img src=\"https://i.imgur.com/CrrO1Nd.png\">\n",
    "</center>"
   ]
  },
  {
   "cell_type": "markdown",
   "metadata": {
    "slideshow": {
     "slide_type": "notes"
    }
   },
   "source": [
    "Example of a generated text from Arctic Monkeys lyric generator. I can't help but fall in love with the phrase \"fiction-esque sense of humour.\"\n",
    "\n",
    "<br /> \n",
    "\n",
    "If you do end up creating some fun lyrics based off your favourite artist, do tweet them at me @meghanabhange\n"
   ]
  },
  {
   "cell_type": "markdown",
   "metadata": {
    "slideshow": {
     "slide_type": "slide"
    }
   },
   "source": [
    "<center><h2>What are we going to learn today - </h2></center>\n",
    "<center>\n",
    "<img src=\"https://media.giphy.com/media/tHufwMDTUi20E/giphy.gif\" width=400px>\n",
    "</center>"
   ]
  },
  {
   "cell_type": "markdown",
   "metadata": {
    "slideshow": {
     "slide_type": "subslide"
    }
   },
   "source": [
    "### A little bit about _[Data Augmentation](https://nanonets.com/blog/data-augmentation-how-to-use-deep-learning-when-you-have-limited-data-part-2/)_\n",
    "<br />\n",
    "\n",
    "### A little bit about _[Transfer Learning](https://towardsdatascience.com/what-is-transfer-learning-8b1a0fa42b4)_\n",
    "<br />\n",
    " \n",
    "### And how to create any kind of text generator from just a text file"
   ]
  },
  {
   "cell_type": "markdown",
   "metadata": {
    "slideshow": {
     "slide_type": "slide"
    }
   },
   "source": [
    "# What are my assumptions -"
   ]
  },
  {
   "cell_type": "markdown",
   "metadata": {
    "slideshow": {
     "slide_type": "subslide"
    }
   },
   "source": [
    "### You're comfortable with python\n",
    "<br />\n",
    "\n",
    "### You're comfortable with basics of machine learning"
   ]
  },
  {
   "cell_type": "markdown",
   "metadata": {
    "colab_type": "text",
    "id": "lWxS_7EjS0nm",
    "slideshow": {
     "slide_type": "slide"
    }
   },
   "source": [
    "# Let's get the data first\n"
   ]
  },
  {
   "cell_type": "markdown",
   "metadata": {
    "slideshow": {
     "slide_type": "subslide"
    }
   },
   "source": [
    "<center>\n",
    "<img src=\"https://media.giphy.com/media/dxNq4O1v1wH2CcfnrK/giphy.gif\"  align=\"center\"/>\n",
    "</center>"
   ]
  },
  {
   "cell_type": "markdown",
   "metadata": {
    "colab_type": "text",
    "id": "X5pNwMX6_90v",
    "slideshow": {
     "slide_type": "subslide"
    }
   },
   "source": [
    "## What are we going to use? \n",
    "<br />\n",
    "\n",
    "### [lyricsgenius Python Package](https://github.com/johnwmillr/LyricsGenius)\n",
    "\n",
    "<br />\n",
    "\n",
    "### [Get your API key here](https://genius.com/api-clients)"
   ]
  },
  {
   "cell_type": "markdown",
   "metadata": {
    "slideshow": {
     "slide_type": "notes"
    }
   },
   "source": [
    "- lyricsgenius provides a simple interface to the song, artist, and lyrics data stored on Genius.com.\n",
    "- [Scraping Lyrics from lyric Genius](https://www.johnwmillr.com/scraping-genius-lyrics/)"
   ]
  },
  {
   "cell_type": "markdown",
   "metadata": {
    "slideshow": {
     "slide_type": "subslide"
    }
   },
   "source": [
    "<center>\n",
    "<img src=\"https://i.imgur.com/xmQDBgY.png\"  align=\"center\" width=400px/>\n",
    "</center>"
   ]
  },
  {
   "cell_type": "code",
   "execution_count": 1,
   "metadata": {
    "colab": {
     "base_uri": "https://localhost:8080/",
     "height": 124
    },
    "colab_type": "code",
    "id": "CHqnc0I1Y0LN",
    "outputId": "d55f5021-a288-4f05-f872-2dfe373e2cea",
    "slideshow": {
     "slide_type": "skip"
    }
   },
   "outputs": [
    {
     "name": "stdout",
     "output_type": "stream",
     "text": [
      "Go to this URL in a browser: https://accounts.google.com/o/oauth2/auth?client_id=947318989803-6bn6qk8qdgf4n4g3pfee6491hc0brc4i.apps.googleusercontent.com&redirect_uri=urn%3aietf%3awg%3aoauth%3a2.0%3aoob&response_type=code&scope=email%20https%3a%2f%2fwww.googleapis.com%2fauth%2fdocs.test%20https%3a%2f%2fwww.googleapis.com%2fauth%2fdrive%20https%3a%2f%2fwww.googleapis.com%2fauth%2fdrive.photos.readonly%20https%3a%2f%2fwww.googleapis.com%2fauth%2fpeopleapi.readonly\n",
      "\n",
      "Enter your authorization code:\n",
      "··········\n",
      "Mounted at /content/drive\n"
     ]
    }
   ],
   "source": [
    "from google.colab import drive\n",
    "drive.mount('/content/drive')"
   ]
  },
  {
   "cell_type": "code",
   "execution_count": 0,
   "metadata": {
    "colab": {},
    "colab_type": "code",
    "id": "vICvgkNG_cA9",
    "slideshow": {
     "slide_type": "skip"
    }
   },
   "outputs": [],
   "source": [
    "import warnings\n",
    "\n",
    "import requests\n",
    "\n",
    "warnings.filterwarnings('ignore')"
   ]
  },
  {
   "cell_type": "code",
   "execution_count": 4,
   "metadata": {
    "colab": {
     "base_uri": "https://localhost:8080/",
     "height": 298
    },
    "colab_type": "code",
    "id": "Khe1DkOf_rC6",
    "outputId": "c06996ee-8bbc-4b6e-c322-1c68088f3aa8",
    "slideshow": {
     "slide_type": "skip"
    }
   },
   "outputs": [
    {
     "name": "stdout",
     "output_type": "stream",
     "text": [
      "Collecting lyricsgenius\n",
      "  Downloading https://files.pythonhosted.org/packages/5d/f9/0c06d255ac334cd6026cbf0ef6d0123c9ba1c56ada5da656c5db91fca518/lyricsgenius-1.8.5-py3-none-any.whl\n",
      "Requirement already satisfied: requests>=2.20.0 in /usr/local/lib/python3.6/dist-packages (from lyricsgenius) (2.23.0)\n",
      "Collecting beautifulsoup4==4.6.0\n",
      "\u001b[?25l  Downloading https://files.pythonhosted.org/packages/9e/d4/10f46e5cfac773e22707237bfcd51bbffeaf0a576b0a847ec7ab15bd7ace/beautifulsoup4-4.6.0-py3-none-any.whl (86kB)\n",
      "\u001b[K     |████████████████████████████████| 92kB 3.4MB/s \n",
      "\u001b[?25hRequirement already satisfied: certifi>=2017.4.17 in /usr/local/lib/python3.6/dist-packages (from requests>=2.20.0->lyricsgenius) (2020.4.5.1)\n",
      "Requirement already satisfied: chardet<4,>=3.0.2 in /usr/local/lib/python3.6/dist-packages (from requests>=2.20.0->lyricsgenius) (3.0.4)\n",
      "Requirement already satisfied: urllib3!=1.25.0,!=1.25.1,<1.26,>=1.21.1 in /usr/local/lib/python3.6/dist-packages (from requests>=2.20.0->lyricsgenius) (1.24.3)\n",
      "Requirement already satisfied: idna<3,>=2.5 in /usr/local/lib/python3.6/dist-packages (from requests>=2.20.0->lyricsgenius) (2.9)\n",
      "Installing collected packages: beautifulsoup4, lyricsgenius\n",
      "  Found existing installation: beautifulsoup4 4.6.3\n",
      "    Uninstalling beautifulsoup4-4.6.3:\n",
      "      Successfully uninstalled beautifulsoup4-4.6.3\n",
      "Successfully installed beautifulsoup4-4.6.0 lyricsgenius-1.8.5\n"
     ]
    }
   ],
   "source": [
    "# !pip install lyricsgenius\n",
    "# @title Genius API Details\n",
    "\n",
    "import lyricsgenius as genius\n",
    "\n",
    "API_KEY = \"APIKey\"  # @param {type:\"string\"}\n",
    "ARTIST = \"Arctic Monkeys\"  # @param {type:\"string\"}"
   ]
  },
  {
   "cell_type": "code",
   "execution_count": 5,
   "metadata": {
    "colab": {
     "base_uri": "https://localhost:8080/",
     "height": 1000
    },
    "colab_type": "code",
    "id": "llISeTZcBXAL",
    "outputId": "9506379d-0a63-4c04-d4ea-af0ba7059567",
    "slideshow": {
     "slide_type": "subslide"
    }
   },
   "outputs": [
    {
     "name": "stdout",
     "output_type": "stream",
     "text": [
      "Searching for songs by Arctic Monkeys...\n",
      "\n",
      "Song 1: \"Do I Wanna Know?\"\n",
      "Song 2: \"Arabella\"\n",
      "Song 3: \"I Wanna Be Yours\"\n",
      "Song 4: \"R U Mine?\"\n",
      "Song 5: \"505\"\n",
      "Song 6: \"Knee Socks\"\n",
      "Song 7: \"Why’d You Only Call Me When You’re High?\"\n",
      "Song 8: \"Fluorescent Adolescent\"\n",
      "Song 9: \"No. 1 Party Anthem\"\n",
      "Song 10: \"Four Out of Five\"\n",
      "Song 11: \"Star Treatment\"\n",
      "Song 12: \"Snap Out of It\"\n",
      "Song 13: \"Tranquility Base Hotel & Casino\"\n",
      "Song 14: \"One for the Road\"\n",
      "Song 15: \"Suck It and See\"\n",
      "Song 16: \"Cornerstone\"\n",
      "Song 17: \"Fireside\"\n",
      "Song 18: \"One Point Perspective\"\n",
      "Song 19: \"Crying Lightning\"\n",
      "Song 20: \"Mardy Bum\"\n",
      "Song 21: \"The Ultracheese\"\n",
      "Song 22: \"I Bet You Look Good on the Dancefloor\"\n",
      "Song 23: \"Teddy Picker\"\n",
      "Song 24: \"When the Sun Goes Down\"\n",
      "Song 25: \"Stop the World I Wanna Get Off With You\"\n",
      "Song 26: \"Do Me a Favour\"\n",
      "Song 27: \"Batphone\"\n",
      "Song 28: \"I Want It All\"\n",
      "Song 29: \"Love Is a Laserquest\"\n",
      "Song 30: \"Only Ones Who Know\"\n",
      "Song 31: \"American Sports\"\n",
      "Song 32: \"Brianstorm\"\n",
      "Song 33: \"A Certain Romance\"\n",
      "Song 34: \"She Looks Like Fun\"\n",
      "Song 35: \"Piledriver Waltz\"\n",
      "Song 36: \"Old Yellow Bricks\"\n",
      "Song 37: \"Mad Sounds\"\n",
      "Song 38: \"Golden Trunks\"\n",
      "Song 39: \"From the Ritz to the Rubble\"\n",
      "Song 40: \"The World’s First Ever Monster Truck Front Flip\"\n",
      "Song 41: \"Science Fiction\"\n",
      "Song 42: \"The View from the Afternoon\"\n",
      "Song 43: \"Fake Tales of San Francisco\"\n",
      "Song 44: \"You’re So Dark\"\n",
      "Song 45: \"Balaclava\"\n",
      "Song 46: \"Pretty Visitors\"\n",
      "Song 47: \"My Propeller\"\n",
      "Song 48: \"No Buses\"\n",
      "Song 49: \"She’s Thunderstorms\"\n",
      "Song 50: \"Secret Door\"\n",
      "Song 51: \"D Is for Dangerous\"\n",
      "Song 52: \"Black Treacle\"\n",
      "Song 53: \"Despair in the Departure Lounge\"\n",
      "Song 54: \"Reckless Serenade\"\n",
      "Song 55: \"Dance Little Liar\"\n",
      "Song 56: \"The Jeweller’s Hands\"\n",
      "Song 57: \"You Probably Couldn’t See for the Lights But You Were Staring Straight at Me\"\n",
      "Song 58: \"Don’t Sit Down ’Cause I’ve Moved Your Chair\"\n",
      "Song 59: \"The Hellcat Spangled Shalalala\"\n",
      "Song 60: \"Riot Van\"\n",
      "Song 61: \"Red Light Indicates Doors Are Secured\"\n",
      "Song 62: \"Bigger Boys and Stolen Sweethearts\"\n",
      "Song 63: \"Dancing Shoes\"\n",
      "Song 64: \"Fire and the Thud\"\n",
      "Song 65: \"This House Is a Circus\"\n",
      "Song 66: \"The Bad Thing\"\n",
      "Song 67: \"Anyways\"\n",
      "Song 68: \"That’s Where You’re Wrong\"\n",
      "Song 69: \"If You Were There, Beware\"\n",
      "Song 70: \"Who the Fuck Are Arctic Monkeys?\"\n",
      "Song 71: \"Perhaps Vampires Is a Bit Strong But...\"\n",
      "Song 72: \"Dangerous Animals\"\n",
      "Song 73: \"Too Much to Ask\"\n",
      "Song 74: \"Library Pictures\"\n",
      "Song 75: \"Leave Before the Lights Come On\"\n",
      "Song 76: \"Still Take You Home\"\n",
      "Song 77: \"The Bakery\"\n",
      "Song 78: \"Red Right Hand\"\n",
      "Song 79: \"Potion Approaching\"\n",
      "Song 80: \"All My Own Stunts\"\n",
      "Song 81: \"Baby I’m Yours\"\n",
      "Song 82: \"Temptation Greets You Like Your Naughty Friend\"\n",
      "Song 83: \"Catapult\"\n",
      "Song 84: \"2013\"\n",
      "Song 85: \"Brick by Brick\"\n",
      "Song 86: \"Electricity\"\n",
      "Song 87: \"The Blond-O-Sonic Shimmer Trap\"\n",
      "Song 88: \"Evil Twin\"\n",
      "Song 89: \"-\"\n",
      "Song 90: \"Cigarette Smoker Fiona\"\n",
      "Song 91: \"Fright Lined Dining Room\"\n",
      "Song 92: \"You and I\"\n",
      "Song 93: \"Joining the Dots\"\n",
      "Song 94: \"Don’t Forget Whose Legs You’re On\"\n",
      "Song 95: \"I.D.S.T.\"\n",
      "Song 96: \"The Afternoon’s Hat\"\n",
      "Song 97: \"Settle for a Draw\"\n",
      "Song 98: \"Da Frame 2R\"\n",
      "Song 99: \"I Haven’t Got My Strange\"\n",
      "Song 100: \"Cigarette Smoke\"\n",
      "Song 101: \"If You Found This It’s Probably Too Late\"\n",
      "Song 102: \"Sketchead\"\n",
      "Song 103: \"7\"\n",
      "\"Whatever People Say I Am, That’s What I’m Not [Album Art]\" is not valid. Skipping.\n",
      "Song 104: \"Crying Lightning (Acoustic Version)\"\n",
      "Song 105: \"Matador\"\n",
      "Song 106: \"What If You Were Right the First Time?\"\n",
      "Song 107: \"The Lovers\"\n",
      "Song 108: \"Plastic Tramp\"\n",
      "Song 109: \"Only You Know\"\n",
      "Song 110: \"Little Illusion Machine (Wirral Riddler)\"\n",
      "Song 111: \"Bad Woman\"\n",
      "Song 112: \"Chun-Li’s Spinning Bird Kick\"\n",
      "Song 113: \"Put Your Dukes Up John\"\n",
      "Song 114: \"Hold On, We’re Going Home (Cover)\"\n",
      "\"Humbug [Booklet]\" is not valid. Skipping.\n",
      "Song 115: \"Riot Van (Demo)\"\n",
      "Song 116: \"Choo Choo\"\n",
      "Song 117: \"Nettles\"\n",
      "Song 118: \"Still Take You Home (Demo)\"\n",
      "Song 119: \"You Know I’m No Good (BBC 1 Radio Live Lounge)\"\n",
      "Song 120: \"Stickin’ to the Floor\"\n",
      "Song 121: \"Salt and Milk\"\n",
      "Song 122: \"The Jam of Boston\"\n",
      "Song 123: \"Knock a Door Run\"\n",
      "Song 124: \"Curtains Closed\"\n",
      "Song 125: \"Diamonds Are Forever\"\n",
      "Song 126: \"Scummy\"\n",
      "Song 127: \"Space Invaders\"\n",
      "Song 128: \"On the Run from the MI5\"\n",
      "Song 129: \"Ravey Ravey Ravey Club\"\n",
      "Song 130: \"Bigger Boys and Stolen Sweethearts (Demo)\"\n",
      "\"Fox Theater Setlist\" is not valid. Skipping.\n",
      "Song 131: \"Strange\"\n",
      "Song 132: \"Wavin’ Bye to the Train or the Bus\"\n",
      "Song 133: \"Love Machine\"\n",
      "Song 134: \"The Death Ramps\"\n",
      "Song 135: \"Come Together\"\n",
      "Song 136: \"The Bad Thing_2\"\n",
      "Song 137: \"Katy On a Mission\"\n",
      "Song 138: \"Dancing Shoes (Demo)\"\n",
      "Song 139: \"Sandtrap\"\n",
      "Song 140: \"Put Me In A Terror Pocket\"\n",
      "Song 141: \"Wagon On The Way To The Stripey Tent\"\n",
      "Song 142: \"Four Out of Five (Italian Translation)\"\n",
      "Song 143: \"Salt and Milk 2\"\n",
      "Song 144: \"The Bakery (Acoustic)\"\n",
      "Song 145: \"Reckless Serenade (Acoustic)\"\n",
      "Song 146: \"Salt by Milk\"\n",
      "Song 147: \"#hot16challenge2\"\n",
      "Song 148: \"Your´re So Dark\"\n",
      "Done. Found 148 songs.\n",
      "[('Do I Wanna Know?', 'Arctic Monkeys'), ('Arabella', 'Arctic Monkeys'), ('I Wanna Be Yours', 'Arctic Monkeys'), ('R U Mine?', 'Arctic Monkeys'), ('505', 'Arctic Monkeys'), ('Knee Socks', 'Arctic Monkeys'), ('Why’d You Only Call Me When You’re High?', 'Arctic Monkeys'), ('Fluorescent Adolescent', 'Arctic Monkeys'), ('No. 1 Party Anthem', 'Arctic Monkeys'), ('Four Out of Five', 'Arctic Monkeys'), ('Star Treatment', 'Arctic Monkeys'), ('Snap Out of It', 'Arctic Monkeys'), ('Tranquility Base Hotel & Casino', 'Arctic Monkeys'), ('One for the Road', 'Arctic Monkeys'), ('Suck It and See', 'Arctic Monkeys'), ('Cornerstone', 'Arctic Monkeys'), ('Fireside', 'Arctic Monkeys'), ('One Point Perspective', 'Arctic Monkeys'), ('Crying Lightning', 'Arctic Monkeys'), ('Mardy Bum', 'Arctic Monkeys'), ('The Ultracheese', 'Arctic Monkeys'), ('I Bet You Look Good on the Dancefloor', 'Arctic Monkeys'), ('Teddy Picker', 'Arctic Monkeys'), ('When the Sun Goes Down', 'Arctic Monkeys'), ('Stop the World I Wanna Get Off With You', 'Arctic Monkeys'), ('Do Me a Favour', 'Arctic Monkeys'), ('Batphone', 'Arctic Monkeys'), ('I Want It All', 'Arctic Monkeys'), ('Love Is a Laserquest', 'Arctic Monkeys'), ('Only Ones Who Know', 'Arctic Monkeys'), ('American Sports', 'Arctic Monkeys'), ('Brianstorm', 'Arctic Monkeys'), ('A Certain Romance', 'Arctic Monkeys'), ('She Looks Like Fun', 'Arctic Monkeys'), ('Piledriver Waltz', 'Arctic Monkeys'), ('Old Yellow Bricks', 'Arctic Monkeys'), ('Mad Sounds', 'Arctic Monkeys'), ('Golden Trunks', 'Arctic Monkeys'), ('From the Ritz to the Rubble', 'Arctic Monkeys'), ('The World’s First Ever Monster Truck Front Flip', 'Arctic Monkeys'), ('Science Fiction', 'Arctic Monkeys'), ('The View from the Afternoon', 'Arctic Monkeys'), ('Fake Tales of San Francisco', 'Arctic Monkeys'), ('You’re So Dark', 'Arctic Monkeys'), ('Balaclava', 'Arctic Monkeys'), ('Pretty Visitors', 'Arctic Monkeys'), ('My Propeller', 'Arctic Monkeys'), ('No Buses', 'Arctic Monkeys'), ('She’s Thunderstorms', 'Arctic Monkeys'), ('Secret Door', 'Arctic Monkeys'), ('D Is for Dangerous', 'Arctic Monkeys'), ('Black Treacle', 'Arctic Monkeys'), ('Despair in the Departure Lounge', 'Arctic Monkeys'), ('Reckless Serenade', 'Arctic Monkeys'), ('Dance Little Liar', 'Arctic Monkeys'), ('The Jeweller’s Hands', 'Arctic Monkeys'), ('You Probably Couldn’t See for the Lights But You Were Staring Straight at Me', 'Arctic Monkeys'), ('Don’t Sit Down ’Cause I’ve Moved Your Chair', 'Arctic Monkeys'), ('The Hellcat Spangled Shalalala', 'Arctic Monkeys'), ('Riot Van', 'Arctic Monkeys'), ('Red Light Indicates Doors Are Secured', 'Arctic Monkeys'), ('Bigger Boys and Stolen Sweethearts', 'Arctic Monkeys'), ('Dancing Shoes', 'Arctic Monkeys'), ('Fire and the Thud', 'Arctic Monkeys'), ('This House Is a Circus', 'Arctic Monkeys'), ('The Bad Thing', 'Arctic Monkeys'), ('Anyways', 'Arctic Monkeys'), ('That’s Where You’re Wrong', 'Arctic Monkeys'), ('If You Were There, Beware', 'Arctic Monkeys'), ('Who the Fuck Are Arctic Monkeys?', 'Arctic Monkeys'), ('Perhaps Vampires Is a Bit Strong But...', 'Arctic Monkeys'), ('Dangerous Animals', 'Arctic Monkeys'), ('Too Much to Ask', 'Arctic Monkeys'), ('Library Pictures', 'Arctic Monkeys'), ('Leave Before the Lights Come On', 'Arctic Monkeys'), ('Still Take You Home', 'Arctic Monkeys'), ('The Bakery', 'Arctic Monkeys'), ('Red Right Hand', 'Arctic Monkeys'), ('Potion Approaching', 'Arctic Monkeys'), ('All My Own Stunts', 'Arctic Monkeys'), ('Baby I’m Yours', 'Arctic Monkeys'), ('Temptation Greets You Like Your Naughty Friend', 'Arctic Monkeys'), ('Catapult', 'Arctic Monkeys'), ('2013', 'Arctic Monkeys'), ('Brick by Brick', 'Arctic Monkeys'), ('Electricity', 'Arctic Monkeys'), ('The Blond-O-Sonic Shimmer Trap', 'Arctic Monkeys'), ('Evil Twin', 'Arctic Monkeys'), ('-', 'Arctic Monkeys'), ('Cigarette Smoker Fiona', 'Arctic Monkeys'), ('Fright Lined Dining Room', 'Arctic Monkeys'), ('You and I', 'Arctic Monkeys'), ('Joining the Dots', 'Arctic Monkeys'), ('Don’t Forget Whose Legs You’re On', 'Arctic Monkeys'), ('I.D.S.T.', 'Arctic Monkeys'), ('The Afternoon’s Hat', 'Arctic Monkeys'), ('Settle for a Draw', 'Arctic Monkeys'), ('Da Frame 2R', 'Arctic Monkeys'), ('I Haven’t Got My Strange', 'Arctic Monkeys'), ('Cigarette Smoke', 'Arctic Monkeys'), ('If You Found This It’s Probably Too Late', 'Arctic Monkeys'), ('Sketchead', 'Arctic Monkeys'), ('7', 'Arctic Monkeys'), ('Crying Lightning (Acoustic Version)', 'Arctic Monkeys'), ('Matador', 'Arctic Monkeys'), ('What If You Were Right the First Time?', 'Arctic Monkeys'), ('The Lovers', 'Arctic Monkeys'), ('Plastic Tramp', 'Arctic Monkeys'), ('Only You Know', 'Arctic Monkeys'), ('Little Illusion Machine (Wirral Riddler)', 'Arctic Monkeys'), ('Bad Woman', 'Arctic Monkeys'), ('Chun-Li’s Spinning Bird Kick', 'Arctic Monkeys'), ('Put Your Dukes Up John', 'Arctic Monkeys'), ('Hold On, We’re Going Home (Cover)', 'Arctic Monkeys'), ('Riot Van (Demo)', 'Arctic Monkeys'), ('Choo Choo', 'Arctic Monkeys'), ('Nettles', 'Arctic Monkeys'), ('Still Take You Home (Demo)', 'Arctic Monkeys'), ('You Know I’m No Good (BBC 1 Radio Live Lounge)', 'Arctic Monkeys'), ('Stickin’ to the Floor', 'Arctic Monkeys'), ('Salt and Milk', 'Arctic Monkeys'), ('The Jam of Boston', 'Arctic Monkeys'), ('Knock a Door Run', 'Arctic Monkeys'), ('Curtains Closed', 'Arctic Monkeys'), ('Diamonds Are Forever', 'Arctic Monkeys'), ('Scummy', 'Arctic Monkeys'), ('Space Invaders', 'Arctic Monkeys'), ('On the Run from the MI5', 'Arctic Monkeys'), ('Ravey Ravey Ravey Club', 'Arctic Monkeys'), ('Bigger Boys and Stolen Sweethearts (Demo)', 'Arctic Monkeys'), ('Strange', 'Arctic Monkeys'), ('Wavin’ Bye to the Train or the Bus', 'Arctic Monkeys'), ('Love Machine', 'Arctic Monkeys'), ('The Death Ramps', 'Arctic Monkeys'), ('Come Together', 'Arctic Monkeys'), ('The Bad Thing_2', 'Arctic Monkeys'), ('Katy On a Mission', 'Arctic Monkeys'), ('Dancing Shoes (Demo)', 'Arctic Monkeys'), ('Sandtrap', 'Arctic Monkeys'), ('Put Me In A Terror Pocket', 'Arctic Monkeys'), ('Wagon On The Way To The Stripey Tent', 'Arctic Monkeys'), ('Four Out of Five (Italian Translation)', 'Arctic Monkeys'), ('Salt and Milk 2', 'Arctic Monkeys'), ('The Bakery (Acoustic)', 'Arctic Monkeys'), ('Reckless Serenade (Acoustic)', 'Arctic Monkeys'), ('Salt by Milk', 'Arctic Monkeys'), ('#hot16challenge2', 'Arctic Monkeys'), ('Your´re So Dark', 'Arctic Monkeys')]\n"
     ]
    }
   ],
   "source": [
    "api = genius.Genius(API_KEY)\n",
    "artist = api.search_artist(ARTIST) \n",
    "print(artist.songs)"
   ]
  },
  {
   "cell_type": "code",
   "execution_count": 6,
   "metadata": {
    "colab": {
     "base_uri": "https://localhost:8080/",
     "height": 34
    },
    "colab_type": "code",
    "collapsed": true,
    "id": "-2UZ5ykVFt1_",
    "outputId": "3584aa59-4156-4732-d435-55edf9f33a1b",
    "slideshow": {
     "slide_type": "subslide"
    }
   },
   "outputs": [
    {
     "name": "stdout",
     "output_type": "stream",
     "text": [
      "Wrote `Lyrics_ArcticMonkeys.json`\n"
     ]
    }
   ],
   "source": [
    "artist.save_lyrics()"
   ]
  },
  {
   "cell_type": "markdown",
   "metadata": {
    "colab_type": "text",
    "id": "aPbRLSQxYjk4",
    "slideshow": {
     "slide_type": "slide"
    }
   },
   "source": [
    "### Skipping other details like album name, release date etc. to keep what's relevant to us - the lyrics"
   ]
  },
  {
   "cell_type": "code",
   "execution_count": 0,
   "metadata": {
    "colab": {},
    "colab_type": "code",
    "id": "xHJUqwW0Dn_P",
    "slideshow": {
     "slide_type": "skip"
    }
   },
   "outputs": [],
   "source": [
    "import json\n",
    "\n",
    "with open(\"Lyrics_ArcticMonkeys.json\") as f:\n",
    "    data = json.load(f)"
   ]
  },
  {
   "cell_type": "code",
   "execution_count": 8,
   "metadata": {
    "colab": {
     "base_uri": "https://localhost:8080/",
     "height": 206
    },
    "colab_type": "code",
    "id": "RRnEwvtYJdmf",
    "outputId": "0bef14f2-f127-4b67-96db-1a1e8377e5a4",
    "slideshow": {
     "slide_type": "fragment"
    }
   },
   "outputs": [
    {
     "data": {
      "text/html": [
       "<div>\n",
       "<style scoped>\n",
       "    .dataframe tbody tr th:only-of-type {\n",
       "        vertical-align: middle;\n",
       "    }\n",
       "\n",
       "    .dataframe tbody tr th {\n",
       "        vertical-align: top;\n",
       "    }\n",
       "\n",
       "    .dataframe thead th {\n",
       "        text-align: right;\n",
       "    }\n",
       "</style>\n",
       "<table border=\"1\" class=\"dataframe\">\n",
       "  <thead>\n",
       "    <tr style=\"text-align: right;\">\n",
       "      <th></th>\n",
       "      <th>title</th>\n",
       "      <th>lyrics</th>\n",
       "    </tr>\n",
       "  </thead>\n",
       "  <tbody>\n",
       "    <tr>\n",
       "      <th>0</th>\n",
       "      <td>Do I Wanna Know?</td>\n",
       "      <td>[Verse 1]\\nHave you got colour in your cheeks?...</td>\n",
       "    </tr>\n",
       "    <tr>\n",
       "      <th>1</th>\n",
       "      <td>Arabella</td>\n",
       "      <td>[Verse 1]\\nArabella's got some interstellar-ga...</td>\n",
       "    </tr>\n",
       "    <tr>\n",
       "      <th>2</th>\n",
       "      <td>I Wanna Be Yours</td>\n",
       "      <td>[Verse 1]\\nI wanna be your vacuum cleaner\\nBre...</td>\n",
       "    </tr>\n",
       "    <tr>\n",
       "      <th>3</th>\n",
       "      <td>R U Mine?</td>\n",
       "      <td>[Verse 1]\\nI'm a puppet on a string\\nTracy Isl...</td>\n",
       "    </tr>\n",
       "    <tr>\n",
       "      <th>4</th>\n",
       "      <td>505</td>\n",
       "      <td>[Chorus]\\nI'm going back to 505\\nIf it's a sev...</td>\n",
       "    </tr>\n",
       "  </tbody>\n",
       "</table>\n",
       "</div>"
      ],
      "text/plain": [
       "              title                                             lyrics\n",
       "0  Do I Wanna Know?  [Verse 1]\\nHave you got colour in your cheeks?...\n",
       "1          Arabella  [Verse 1]\\nArabella's got some interstellar-ga...\n",
       "2  I Wanna Be Yours  [Verse 1]\\nI wanna be your vacuum cleaner\\nBre...\n",
       "3         R U Mine?  [Verse 1]\\nI'm a puppet on a string\\nTracy Isl...\n",
       "4               505  [Chorus]\\nI'm going back to 505\\nIf it's a sev..."
      ]
     },
     "execution_count": 8,
     "metadata": {
      "tags": []
     },
     "output_type": "execute_result"
    }
   ],
   "source": [
    "import pandas as pd\n",
    "\n",
    "df = pd.DataFrame(data[\"songs\"])[[\"title\", \"lyrics\"]]\n",
    "df.dropna(inplace=True)\n",
    "df.head()"
   ]
  },
  {
   "cell_type": "code",
   "execution_count": 9,
   "metadata": {
    "colab": {
     "base_uri": "https://localhost:8080/",
     "height": 206
    },
    "colab_type": "code",
    "id": "cmmmwg5gKrzh",
    "outputId": "274b65e8-53cf-46ba-88f8-cce0b36a81dc",
    "slideshow": {
     "slide_type": "subslide"
    }
   },
   "outputs": [
    {
     "data": {
      "text/html": [
       "<div>\n",
       "<style scoped>\n",
       "    .dataframe tbody tr th:only-of-type {\n",
       "        vertical-align: middle;\n",
       "    }\n",
       "\n",
       "    .dataframe tbody tr th {\n",
       "        vertical-align: top;\n",
       "    }\n",
       "\n",
       "    .dataframe thead th {\n",
       "        text-align: right;\n",
       "    }\n",
       "</style>\n",
       "<table border=\"1\" class=\"dataframe\">\n",
       "  <thead>\n",
       "    <tr style=\"text-align: right;\">\n",
       "      <th></th>\n",
       "      <th>title</th>\n",
       "      <th>lyrics</th>\n",
       "    </tr>\n",
       "  </thead>\n",
       "  <tbody>\n",
       "    <tr>\n",
       "      <th>0</th>\n",
       "      <td>Do I Wanna Know?</td>\n",
       "      <td>[verse 1] have you got colour in your cheeks? ...</td>\n",
       "    </tr>\n",
       "    <tr>\n",
       "      <th>1</th>\n",
       "      <td>Arabella</td>\n",
       "      <td>[verse 1] arabellas got some interstellar-gato...</td>\n",
       "    </tr>\n",
       "    <tr>\n",
       "      <th>2</th>\n",
       "      <td>I Wanna Be Yours</td>\n",
       "      <td>[verse 1] i wanna be your vacuum cleaner breat...</td>\n",
       "    </tr>\n",
       "    <tr>\n",
       "      <th>3</th>\n",
       "      <td>R U Mine?</td>\n",
       "      <td>[verse 1] im a puppet on a string tracy island...</td>\n",
       "    </tr>\n",
       "    <tr>\n",
       "      <th>4</th>\n",
       "      <td>505</td>\n",
       "      <td>[chorus] im going back to 505 if its a seven-h...</td>\n",
       "    </tr>\n",
       "  </tbody>\n",
       "</table>\n",
       "</div>"
      ],
      "text/plain": [
       "              title                                             lyrics\n",
       "0  Do I Wanna Know?  [verse 1] have you got colour in your cheeks? ...\n",
       "1          Arabella  [verse 1] arabellas got some interstellar-gato...\n",
       "2  I Wanna Be Yours  [verse 1] i wanna be your vacuum cleaner breat...\n",
       "3         R U Mine?  [verse 1] im a puppet on a string tracy island...\n",
       "4               505  [chorus] im going back to 505 if its a seven-h..."
      ]
     },
     "execution_count": 9,
     "metadata": {
      "tags": []
     },
     "output_type": "execute_result"
    }
   ],
   "source": [
    "df[\"lyrics\"] = (\n",
    "    df[\"lyrics\"]\n",
    "    .apply(lambda x: x.lower())\n",
    "    .apply(lambda x: x.replace(\"\\\\\", \" \"))\n",
    "    .apply(lambda x: x.replace(\"\\\\n\", \" \"))\n",
    "    .apply(lambda x: x.replace(\"\\n\", \" \"))\n",
    "    .apply(lambda x: x.replace(\"'\", \"\"))\n",
    ")\n",
    "df.head()"
   ]
  },
  {
   "cell_type": "markdown",
   "metadata": {
    "colab_type": "text",
    "id": "HSHBI4JHLTfV",
    "slideshow": {
     "slide_type": "slide"
    }
   },
   "source": [
    "# Text Augmentation\n",
    "\n",
    "<center>\n",
    "<img src=\"https://i.imgur.com/r0JeqCr.gif\"/>\n",
    "</center>"
   ]
  },
  {
   "cell_type": "code",
   "execution_count": 10,
   "metadata": {
    "colab": {
     "base_uri": "https://localhost:8080/",
     "height": 680
    },
    "colab_type": "code",
    "id": "zqHeOtyRLYPn",
    "outputId": "dbfcbb3b-85d3-4729-a167-d52960b96a4c",
    "slideshow": {
     "slide_type": "skip"
    }
   },
   "outputs": [
    {
     "name": "stdout",
     "output_type": "stream",
     "text": [
      "Collecting nlpaug\n",
      "\u001b[?25l  Downloading https://files.pythonhosted.org/packages/1f/6c/ca85b6bd29926561229e8c9f677c36c65db9ef1947bfc175e6641bc82ace/nlpaug-0.0.14-py3-none-any.whl (101kB)\n",
      "\r",
      "\u001b[K     |███▎                            | 10kB 20.4MB/s eta 0:00:01\r",
      "\u001b[K     |██████▌                         | 20kB 1.9MB/s eta 0:00:01\r",
      "\u001b[K     |█████████▊                      | 30kB 2.5MB/s eta 0:00:01\r",
      "\u001b[K     |█████████████                   | 40kB 2.8MB/s eta 0:00:01\r",
      "\u001b[K     |████████████████▏               | 51kB 2.4MB/s eta 0:00:01\r",
      "\u001b[K     |███████████████████▍            | 61kB 2.7MB/s eta 0:00:01\r",
      "\u001b[K     |██████████████████████▋         | 71kB 2.9MB/s eta 0:00:01\r",
      "\u001b[K     |█████████████████████████▉      | 81kB 3.2MB/s eta 0:00:01\r",
      "\u001b[K     |█████████████████████████████   | 92kB 3.4MB/s eta 0:00:01\r",
      "\u001b[K     |████████████████████████████████| 102kB 2.6MB/s \n",
      "\u001b[?25hInstalling collected packages: nlpaug\n",
      "Successfully installed nlpaug-0.0.14\n",
      "Collecting transformers\n",
      "\u001b[?25l  Downloading https://files.pythonhosted.org/packages/22/97/7db72a0beef1825f82188a4b923e62a146271ac2ced7928baa4d47ef2467/transformers-2.9.1-py3-none-any.whl (641kB)\n",
      "\u001b[K     |████████████████████████████████| 645kB 3.5MB/s \n",
      "\u001b[?25hRequirement already satisfied: filelock in /usr/local/lib/python3.6/dist-packages (from transformers) (3.0.12)\n",
      "Requirement already satisfied: requests in /usr/local/lib/python3.6/dist-packages (from transformers) (2.23.0)\n",
      "Requirement already satisfied: numpy in /usr/local/lib/python3.6/dist-packages (from transformers) (1.18.4)\n",
      "Requirement already satisfied: dataclasses; python_version < \"3.7\" in /usr/local/lib/python3.6/dist-packages (from transformers) (0.7)\n",
      "Collecting tokenizers==0.7.0\n",
      "\u001b[?25l  Downloading https://files.pythonhosted.org/packages/14/e5/a26eb4716523808bb0a799fcfdceb6ebf77a18169d9591b2f46a9adb87d9/tokenizers-0.7.0-cp36-cp36m-manylinux1_x86_64.whl (3.8MB)\n",
      "\u001b[K     |████████████████████████████████| 3.8MB 17.7MB/s \n",
      "\u001b[?25hCollecting sacremoses\n",
      "\u001b[?25l  Downloading https://files.pythonhosted.org/packages/7d/34/09d19aff26edcc8eb2a01bed8e98f13a1537005d31e95233fd48216eed10/sacremoses-0.0.43.tar.gz (883kB)\n",
      "\u001b[K     |████████████████████████████████| 890kB 31.2MB/s \n",
      "\u001b[?25hRequirement already satisfied: regex!=2019.12.17 in /usr/local/lib/python3.6/dist-packages (from transformers) (2019.12.20)\n",
      "Collecting sentencepiece\n",
      "\u001b[?25l  Downloading https://files.pythonhosted.org/packages/3b/88/49e772d686088e1278766ad68a463513642a2a877487decbd691dec02955/sentencepiece-0.1.90-cp36-cp36m-manylinux1_x86_64.whl (1.1MB)\n",
      "\u001b[K     |████████████████████████████████| 1.1MB 42.5MB/s \n",
      "\u001b[?25hRequirement already satisfied: tqdm>=4.27 in /usr/local/lib/python3.6/dist-packages (from transformers) (4.41.1)\n",
      "Requirement already satisfied: urllib3!=1.25.0,!=1.25.1,<1.26,>=1.21.1 in /usr/local/lib/python3.6/dist-packages (from requests->transformers) (1.24.3)\n",
      "Requirement already satisfied: certifi>=2017.4.17 in /usr/local/lib/python3.6/dist-packages (from requests->transformers) (2020.4.5.1)\n",
      "Requirement already satisfied: idna<3,>=2.5 in /usr/local/lib/python3.6/dist-packages (from requests->transformers) (2.9)\n",
      "Requirement already satisfied: chardet<4,>=3.0.2 in /usr/local/lib/python3.6/dist-packages (from requests->transformers) (3.0.4)\n",
      "Requirement already satisfied: six in /usr/local/lib/python3.6/dist-packages (from sacremoses->transformers) (1.12.0)\n",
      "Requirement already satisfied: click in /usr/local/lib/python3.6/dist-packages (from sacremoses->transformers) (7.1.2)\n",
      "Requirement already satisfied: joblib in /usr/local/lib/python3.6/dist-packages (from sacremoses->transformers) (0.14.1)\n",
      "Building wheels for collected packages: sacremoses\n",
      "  Building wheel for sacremoses (setup.py) ... \u001b[?25l\u001b[?25hdone\n",
      "  Created wheel for sacremoses: filename=sacremoses-0.0.43-cp36-none-any.whl size=893260 sha256=7b7f7a3839247c1a6d076c71a1175870c80e2ec19c5ebe6aa8beacbf985004e8\n",
      "  Stored in directory: /root/.cache/pip/wheels/29/3c/fd/7ce5c3f0666dab31a50123635e6fb5e19ceb42ce38d4e58f45\n",
      "Successfully built sacremoses\n",
      "Installing collected packages: tokenizers, sacremoses, sentencepiece, transformers\n",
      "Successfully installed sacremoses-0.0.43 sentencepiece-0.1.90 tokenizers-0.7.0 transformers-2.9.1\n"
     ]
    }
   ],
   "source": [
    "!pip install nlpaug\n",
    "!pip install transformers"
   ]
  },
  {
   "cell_type": "code",
   "execution_count": 0,
   "metadata": {
    "colab": {},
    "colab_type": "code",
    "id": "bi2CvfT5Lb3T",
    "slideshow": {
     "slide_type": "skip"
    }
   },
   "outputs": [],
   "source": [
    "import os\n",
    "import unittest\n",
    "from os.path import dirname, join\n",
    "\n",
    "import nlpaug.augmenter.char as nac\n",
    "import nlpaug.augmenter.word as naw\n",
    "import nlpaug.flow as naf\n",
    "from nlpaug import *\n",
    "from nlpaug.augmenter.word import ContextualWordEmbsAug\n",
    "from nlpaug.util import Action"
   ]
  },
  {
   "cell_type": "markdown",
   "metadata": {
    "slideshow": {
     "slide_type": "slide"
    }
   },
   "source": [
    "# We need talk about BERT before this"
   ]
  },
  {
   "cell_type": "markdown",
   "metadata": {
    "slideshow": {
     "slide_type": "subslide"
    }
   },
   "source": [
    "<center>\n",
    "<img src=\"https://miro.medium.com/max/300/0*2XpE-VjhhLGkFDYg.jpg\">\n",
    "</center>\n"
   ]
  },
  {
   "cell_type": "markdown",
   "metadata": {
    "slideshow": {
     "slide_type": "slide"
    }
   },
   "source": [
    "## We are going to use [nlpaug](https://github.com/makcedward/nlpaug) for text augmentation "
   ]
  },
  {
   "cell_type": "markdown",
   "metadata": {
    "colab_type": "text",
    "id": "3ztw_KyLYjlu",
    "slideshow": {
     "slide_type": "slide"
    }
   },
   "source": [
    "# Contextual WordEmbs Augmentation"
   ]
  },
  {
   "cell_type": "code",
   "execution_count": 12,
   "metadata": {
    "colab": {
     "base_uri": "https://localhost:8080/",
     "height": 235,
     "referenced_widgets": [
      "323e3c9ed6b143169809ef86381432dd",
      "123479e94e484463a85a18464c44412c",
      "5b162adeeef94ed38d2ee89c773a9f21",
      "8118b5a2e95b4ee780b0b43bfab9380f",
      "ae7a0ec465414c32ba7bf82b765bee07",
      "99e91fe4050047c58f3e9e489ef78d51",
      "afc183dd97a34c2b8632502ad41986e8",
      "b11186dc41aa4265a790fec3a91146aa",
      "ff1b999d0bcb40749c0792049200bb1c",
      "bb2e294bde1745c29d1869f8d1dea422",
      "c39c16fce520495c96e1c7d583e432ed",
      "75ee14f16a2045b6970f59a70851a1f6",
      "46a75bbbb04a4eecaa4cfdfca6b28ce1",
      "baf8172b187d48e69762876829e3bbdd",
      "81b8455449814ce2bc986a3df220a807",
      "090503aef84e463ebfa7e920bc09869c",
      "d125a25d67da44f9bb291404ae1e4469",
      "c1232131146f47e7b14108d947e28ecc",
      "911b60f28e7f49ab8d62403a237a52f0",
      "601db603cf754a12b17266657a2db449",
      "707a8288215e4691af40ce86f5d3379b",
      "cfcbccbcd92443e982a211534d8ee078",
      "4126a542160249a690f154bd7a7618e5",
      "d83b8dba80c94024b652e7bc3d6462ba"
     ]
    },
    "colab_type": "code",
    "collapsed": true,
    "id": "2GzqNhHqLerZ",
    "outputId": "26212716-c983-421f-fbed-50277339614e",
    "slideshow": {
     "slide_type": "subslide"
    }
   },
   "outputs": [
    {
     "data": {
      "application/vnd.jupyter.widget-view+json": {
       "model_id": "323e3c9ed6b143169809ef86381432dd",
       "version_major": 2,
       "version_minor": 0
      },
      "text/plain": [
       "HBox(children=(FloatProgress(value=0.0, description='Downloading', max=231508.0, style=ProgressStyle(descripti…"
      ]
     },
     "metadata": {
      "tags": []
     },
     "output_type": "display_data"
    },
    {
     "name": "stdout",
     "output_type": "stream",
     "text": [
      "\n"
     ]
    },
    {
     "data": {
      "application/vnd.jupyter.widget-view+json": {
       "model_id": "ff1b999d0bcb40749c0792049200bb1c",
       "version_major": 2,
       "version_minor": 0
      },
      "text/plain": [
       "HBox(children=(FloatProgress(value=0.0, description='Downloading', max=433.0, style=ProgressStyle(description_…"
      ]
     },
     "metadata": {
      "tags": []
     },
     "output_type": "display_data"
    },
    {
     "name": "stdout",
     "output_type": "stream",
     "text": [
      "\n"
     ]
    },
    {
     "data": {
      "application/vnd.jupyter.widget-view+json": {
       "model_id": "d125a25d67da44f9bb291404ae1e4469",
       "version_major": 2,
       "version_minor": 0
      },
      "text/plain": [
       "HBox(children=(FloatProgress(value=0.0, description='Downloading', max=440473133.0, style=ProgressStyle(descri…"
      ]
     },
     "metadata": {
      "tags": []
     },
     "output_type": "display_data"
    },
    {
     "name": "stdout",
     "output_type": "stream",
     "text": [
      "\n",
      "Original:\n",
      "have you got colour in your cheeks?\n",
      "Augmented Text:\n",
      "what have you got colour in your yellow cheeks ?\n"
     ]
    }
   ],
   "source": [
    "# @title Test Contextual WordEmbs Augumentation\n",
    "aug = naw.ContextualWordEmbsAug(model_path=\"bert-base-uncased\", action=\"insert\")\n",
    "\n",
    "test_text = \"have you got colour in your cheeks?\"  # @param {type:\"string\"}\n",
    "augmented_text = aug.augment(test_text)\n",
    "print(\"Original:\")\n",
    "print(test_text)\n",
    "print(\"Augmented Text:\")\n",
    "print(augmented_text)"
   ]
  },
  {
   "cell_type": "markdown",
   "metadata": {
    "colab_type": "text",
    "id": "P-liwlbaYjl3",
    "slideshow": {
     "slide_type": "slide"
    }
   },
   "source": [
    "# Contextual WordEmbs Augmentation in a flow "
   ]
  },
  {
   "cell_type": "code",
   "execution_count": 13,
   "metadata": {
    "colab": {
     "base_uri": "https://localhost:8080/",
     "height": 34
    },
    "colab_type": "code",
    "id": "hTzjv7ulNBHb",
    "outputId": "5a46dfbd-e54e-4e17-ded1-e136b6bb6c44",
    "slideshow": {
     "slide_type": "subslide"
    }
   },
   "outputs": [
    {
     "data": {
      "text/plain": [
       "'there is also much taller and with a more rounded'"
      ]
     },
     "execution_count": 13,
     "metadata": {
      "tags": []
     },
     "output_type": "execute_result"
    }
   ],
   "source": [
    "# @title Test Contextual WordEmbs Augumentation\n",
    "aug = naf.Sequential(\n",
    "    [\n",
    "        ContextualWordEmbsAug(action=Action.INSERT),\n",
    "        ContextualWordEmbsAug(action=Action.SUBSTITUTE),\n",
    "        naw.RandomWordAug(),\n",
    "    ]\n",
    ")\n",
    "test_text = \"there is always somebody taller with more of a wit\"  # @param {type:\"string\"}\n",
    "aug.augment(test_text)"
   ]
  },
  {
   "cell_type": "code",
   "execution_count": 0,
   "metadata": {
    "colab": {},
    "colab_type": "code",
    "id": "2l0sV8cQPI4U",
    "slideshow": {
     "slide_type": "skip"
    }
   },
   "outputs": [],
   "source": [
    "def splitter(n, s):\n",
    "    pieces = s.split()\n",
    "    return [str(\" \".join(pieces[i : i + n])) for i in range(0, len(pieces), n)]"
   ]
  },
  {
   "cell_type": "code",
   "execution_count": 19,
   "metadata": {
    "colab": {
     "base_uri": "https://localhost:8080/",
     "height": 34
    },
    "colab_type": "code",
    "id": "wSleNNtEPlFZ",
    "outputId": "b0ef4afa-b8cf-4462-8d2a-9196a7f47726",
    "slideshow": {
     "slide_type": "skip"
    }
   },
   "outputs": [
    {
     "data": {
      "text/plain": [
       "172477"
      ]
     },
     "execution_count": 19,
     "metadata": {
      "tags": []
     },
     "output_type": "execute_result"
    }
   ],
   "source": [
    "text = \" \".join(df.lyrics)\n",
    "len(text)"
   ]
  },
  {
   "cell_type": "code",
   "execution_count": 0,
   "metadata": {
    "colab": {},
    "colab_type": "code",
    "id": "7kiKnZKcZRaA",
    "slideshow": {
     "slide_type": "skip"
    }
   },
   "outputs": [],
   "source": [
    "# write a txt file for just the original dataset\n",
    "text_file = open(\"drive/My Drive/ArcticMonkeys/am_corpus_original.txt\", \"w\")\n",
    "text_file.write(text)\n",
    "text_file.close()"
   ]
  },
  {
   "cell_type": "code",
   "execution_count": 21,
   "metadata": {
    "colab": {
     "base_uri": "https://localhost:8080/",
     "height": 34
    },
    "colab_type": "code",
    "id": "zTD7gY0GPXvQ",
    "outputId": "a230cb0c-ba27-4826-c747-056716aa8278",
    "slideshow": {
     "slide_type": "slide"
    }
   },
   "outputs": [
    {
     "name": "stderr",
     "output_type": "stream",
     "text": [
      "100% (3306 of 3306) |####################| Elapsed Time: 0:06:53 Time:  0:06:53\n"
     ]
    }
   ],
   "source": [
    "from progressbar import ProgressBar\n",
    "\n",
    "pbar = ProgressBar()\n",
    "\n",
    "augumented = []\n",
    "for s in pbar(splitter(10, text)):\n",
    "    try:\n",
    "        augumented.append(aug.augment(s))\n",
    "    except ValueError:\n",
    "        pass"
   ]
  },
  {
   "cell_type": "code",
   "execution_count": 22,
   "metadata": {
    "colab": {
     "base_uri": "https://localhost:8080/",
     "height": 69
    },
    "colab_type": "code",
    "id": "GEMhl_6HP6oO",
    "outputId": "e8f94f18-4569-4b95-e593-d7b6974aeeef",
    "slideshow": {
     "slide_type": "slide"
    }
   },
   "outputs": [
    {
     "name": "stdout",
     "output_type": "stream",
     "text": [
      "len text : 172477, Length of Augmumnted = 155249, Length of FasttextAUG = 0\n",
      "Percentage of Orignal Text : 52.62841520050286\n",
      "Percentage of Augumented Text : 47.37158479949714\n"
     ]
    }
   ],
   "source": [
    "augumented_text = str(\" \".join(augumented)).replace(\"#\", \"\") + str(\n",
    "    \" \".join(augumented_fasttext)\n",
    ").replace(\"#\", \"\")\n",
    "corpus = text + augumented_text\n",
    "print(\n",
    "    f\"len text : {len(text)}, Length of Augmumnted = {len(str(' '.join(augumented)).replace('#', ''))}, Length of FasttextAUG = {len(str(' '.join(augumented_fasttext)).replace('#', ''))}\"\n",
    ")\n",
    "print(f\"Percentage of Orignal Text : {len(text)*100/len(corpus)}\")\n",
    "print(f\"Percentage of Augumented Text : {len(augumented_text)*100/len(corpus)}\")\n",
    "\n",
    "# write a text file for the whole corpus\n",
    "text_file = open(\"drive/My Drive/ArcticMonkeys/am_corpus.txt\", \"w\")\n",
    "text_file.write(corpus)\n",
    "text_file.close()"
   ]
  }
 ],
 "metadata": {
  "accelerator": "GPU",
  "celltoolbar": "Slideshow",
  "colab": {
   "include_colab_link": true,
   "machine_shape": "hm",
   "name": "Data-AMLyricGenerator.ipynb",
   "provenance": []
  },
  "kernelspec": {
   "display_name": "Python 3",
   "language": "python",
   "name": "python3"
  },
  "language_info": {
   "codemirror_mode": {
    "name": "ipython",
    "version": 3
   },
   "file_extension": ".py",
   "mimetype": "text/x-python",
   "name": "python",
   "nbconvert_exporter": "python",
   "pygments_lexer": "ipython3",
   "version": "3.7.3"
  },
  "widgets": {
   "application/vnd.jupyter.widget-state+json": {
    "090503aef84e463ebfa7e920bc09869c": {
     "model_module": "@jupyter-widgets/base",
     "model_name": "LayoutModel",
     "state": {
      "_model_module": "@jupyter-widgets/base",
      "_model_module_version": "1.2.0",
      "_model_name": "LayoutModel",
      "_view_count": null,
      "_view_module": "@jupyter-widgets/base",
      "_view_module_version": "1.2.0",
      "_view_name": "LayoutView",
      "align_content": null,
      "align_items": null,
      "align_self": null,
      "border": null,
      "bottom": null,
      "display": null,
      "flex": null,
      "flex_flow": null,
      "grid_area": null,
      "grid_auto_columns": null,
      "grid_auto_flow": null,
      "grid_auto_rows": null,
      "grid_column": null,
      "grid_gap": null,
      "grid_row": null,
      "grid_template_areas": null,
      "grid_template_columns": null,
      "grid_template_rows": null,
      "height": null,
      "justify_content": null,
      "justify_items": null,
      "left": null,
      "margin": null,
      "max_height": null,
      "max_width": null,
      "min_height": null,
      "min_width": null,
      "object_fit": null,
      "object_position": null,
      "order": null,
      "overflow": null,
      "overflow_x": null,
      "overflow_y": null,
      "padding": null,
      "right": null,
      "top": null,
      "visibility": null,
      "width": null
     }
    },
    "123479e94e484463a85a18464c44412c": {
     "model_module": "@jupyter-widgets/base",
     "model_name": "LayoutModel",
     "state": {
      "_model_module": "@jupyter-widgets/base",
      "_model_module_version": "1.2.0",
      "_model_name": "LayoutModel",
      "_view_count": null,
      "_view_module": "@jupyter-widgets/base",
      "_view_module_version": "1.2.0",
      "_view_name": "LayoutView",
      "align_content": null,
      "align_items": null,
      "align_self": null,
      "border": null,
      "bottom": null,
      "display": null,
      "flex": null,
      "flex_flow": null,
      "grid_area": null,
      "grid_auto_columns": null,
      "grid_auto_flow": null,
      "grid_auto_rows": null,
      "grid_column": null,
      "grid_gap": null,
      "grid_row": null,
      "grid_template_areas": null,
      "grid_template_columns": null,
      "grid_template_rows": null,
      "height": null,
      "justify_content": null,
      "justify_items": null,
      "left": null,
      "margin": null,
      "max_height": null,
      "max_width": null,
      "min_height": null,
      "min_width": null,
      "object_fit": null,
      "object_position": null,
      "order": null,
      "overflow": null,
      "overflow_x": null,
      "overflow_y": null,
      "padding": null,
      "right": null,
      "top": null,
      "visibility": null,
      "width": null
     }
    },
    "323e3c9ed6b143169809ef86381432dd": {
     "model_module": "@jupyter-widgets/controls",
     "model_name": "HBoxModel",
     "state": {
      "_dom_classes": [],
      "_model_module": "@jupyter-widgets/controls",
      "_model_module_version": "1.5.0",
      "_model_name": "HBoxModel",
      "_view_count": null,
      "_view_module": "@jupyter-widgets/controls",
      "_view_module_version": "1.5.0",
      "_view_name": "HBoxView",
      "box_style": "",
      "children": [
       "IPY_MODEL_5b162adeeef94ed38d2ee89c773a9f21",
       "IPY_MODEL_8118b5a2e95b4ee780b0b43bfab9380f"
      ],
      "layout": "IPY_MODEL_123479e94e484463a85a18464c44412c"
     }
    },
    "4126a542160249a690f154bd7a7618e5": {
     "model_module": "@jupyter-widgets/controls",
     "model_name": "DescriptionStyleModel",
     "state": {
      "_model_module": "@jupyter-widgets/controls",
      "_model_module_version": "1.5.0",
      "_model_name": "DescriptionStyleModel",
      "_view_count": null,
      "_view_module": "@jupyter-widgets/base",
      "_view_module_version": "1.2.0",
      "_view_name": "StyleView",
      "description_width": ""
     }
    },
    "46a75bbbb04a4eecaa4cfdfca6b28ce1": {
     "model_module": "@jupyter-widgets/controls",
     "model_name": "ProgressStyleModel",
     "state": {
      "_model_module": "@jupyter-widgets/controls",
      "_model_module_version": "1.5.0",
      "_model_name": "ProgressStyleModel",
      "_view_count": null,
      "_view_module": "@jupyter-widgets/base",
      "_view_module_version": "1.2.0",
      "_view_name": "StyleView",
      "bar_color": null,
      "description_width": "initial"
     }
    },
    "5b162adeeef94ed38d2ee89c773a9f21": {
     "model_module": "@jupyter-widgets/controls",
     "model_name": "FloatProgressModel",
     "state": {
      "_dom_classes": [],
      "_model_module": "@jupyter-widgets/controls",
      "_model_module_version": "1.5.0",
      "_model_name": "FloatProgressModel",
      "_view_count": null,
      "_view_module": "@jupyter-widgets/controls",
      "_view_module_version": "1.5.0",
      "_view_name": "ProgressView",
      "bar_style": "success",
      "description": "Downloading: 100%",
      "description_tooltip": null,
      "layout": "IPY_MODEL_99e91fe4050047c58f3e9e489ef78d51",
      "max": 231508,
      "min": 0,
      "orientation": "horizontal",
      "style": "IPY_MODEL_ae7a0ec465414c32ba7bf82b765bee07",
      "value": 231508
     }
    },
    "601db603cf754a12b17266657a2db449": {
     "model_module": "@jupyter-widgets/controls",
     "model_name": "HTMLModel",
     "state": {
      "_dom_classes": [],
      "_model_module": "@jupyter-widgets/controls",
      "_model_module_version": "1.5.0",
      "_model_name": "HTMLModel",
      "_view_count": null,
      "_view_module": "@jupyter-widgets/controls",
      "_view_module_version": "1.5.0",
      "_view_name": "HTMLView",
      "description": "",
      "description_tooltip": null,
      "layout": "IPY_MODEL_d83b8dba80c94024b652e7bc3d6462ba",
      "placeholder": "​",
      "style": "IPY_MODEL_4126a542160249a690f154bd7a7618e5",
      "value": " 440M/440M [00:08&lt;00:00, 51.5MB/s]"
     }
    },
    "707a8288215e4691af40ce86f5d3379b": {
     "model_module": "@jupyter-widgets/controls",
     "model_name": "ProgressStyleModel",
     "state": {
      "_model_module": "@jupyter-widgets/controls",
      "_model_module_version": "1.5.0",
      "_model_name": "ProgressStyleModel",
      "_view_count": null,
      "_view_module": "@jupyter-widgets/base",
      "_view_module_version": "1.2.0",
      "_view_name": "StyleView",
      "bar_color": null,
      "description_width": "initial"
     }
    },
    "75ee14f16a2045b6970f59a70851a1f6": {
     "model_module": "@jupyter-widgets/controls",
     "model_name": "HTMLModel",
     "state": {
      "_dom_classes": [],
      "_model_module": "@jupyter-widgets/controls",
      "_model_module_version": "1.5.0",
      "_model_name": "HTMLModel",
      "_view_count": null,
      "_view_module": "@jupyter-widgets/controls",
      "_view_module_version": "1.5.0",
      "_view_name": "HTMLView",
      "description": "",
      "description_tooltip": null,
      "layout": "IPY_MODEL_090503aef84e463ebfa7e920bc09869c",
      "placeholder": "​",
      "style": "IPY_MODEL_81b8455449814ce2bc986a3df220a807",
      "value": " 433/433 [00:08&lt;00:00, 48.9B/s]"
     }
    },
    "8118b5a2e95b4ee780b0b43bfab9380f": {
     "model_module": "@jupyter-widgets/controls",
     "model_name": "HTMLModel",
     "state": {
      "_dom_classes": [],
      "_model_module": "@jupyter-widgets/controls",
      "_model_module_version": "1.5.0",
      "_model_name": "HTMLModel",
      "_view_count": null,
      "_view_module": "@jupyter-widgets/controls",
      "_view_module_version": "1.5.0",
      "_view_name": "HTMLView",
      "description": "",
      "description_tooltip": null,
      "layout": "IPY_MODEL_b11186dc41aa4265a790fec3a91146aa",
      "placeholder": "​",
      "style": "IPY_MODEL_afc183dd97a34c2b8632502ad41986e8",
      "value": " 232k/232k [00:00&lt;00:00, 1.62MB/s]"
     }
    },
    "81b8455449814ce2bc986a3df220a807": {
     "model_module": "@jupyter-widgets/controls",
     "model_name": "DescriptionStyleModel",
     "state": {
      "_model_module": "@jupyter-widgets/controls",
      "_model_module_version": "1.5.0",
      "_model_name": "DescriptionStyleModel",
      "_view_count": null,
      "_view_module": "@jupyter-widgets/base",
      "_view_module_version": "1.2.0",
      "_view_name": "StyleView",
      "description_width": ""
     }
    },
    "911b60f28e7f49ab8d62403a237a52f0": {
     "model_module": "@jupyter-widgets/controls",
     "model_name": "FloatProgressModel",
     "state": {
      "_dom_classes": [],
      "_model_module": "@jupyter-widgets/controls",
      "_model_module_version": "1.5.0",
      "_model_name": "FloatProgressModel",
      "_view_count": null,
      "_view_module": "@jupyter-widgets/controls",
      "_view_module_version": "1.5.0",
      "_view_name": "ProgressView",
      "bar_style": "success",
      "description": "Downloading: 100%",
      "description_tooltip": null,
      "layout": "IPY_MODEL_cfcbccbcd92443e982a211534d8ee078",
      "max": 440473133,
      "min": 0,
      "orientation": "horizontal",
      "style": "IPY_MODEL_707a8288215e4691af40ce86f5d3379b",
      "value": 440473133
     }
    },
    "99e91fe4050047c58f3e9e489ef78d51": {
     "model_module": "@jupyter-widgets/base",
     "model_name": "LayoutModel",
     "state": {
      "_model_module": "@jupyter-widgets/base",
      "_model_module_version": "1.2.0",
      "_model_name": "LayoutModel",
      "_view_count": null,
      "_view_module": "@jupyter-widgets/base",
      "_view_module_version": "1.2.0",
      "_view_name": "LayoutView",
      "align_content": null,
      "align_items": null,
      "align_self": null,
      "border": null,
      "bottom": null,
      "display": null,
      "flex": null,
      "flex_flow": null,
      "grid_area": null,
      "grid_auto_columns": null,
      "grid_auto_flow": null,
      "grid_auto_rows": null,
      "grid_column": null,
      "grid_gap": null,
      "grid_row": null,
      "grid_template_areas": null,
      "grid_template_columns": null,
      "grid_template_rows": null,
      "height": null,
      "justify_content": null,
      "justify_items": null,
      "left": null,
      "margin": null,
      "max_height": null,
      "max_width": null,
      "min_height": null,
      "min_width": null,
      "object_fit": null,
      "object_position": null,
      "order": null,
      "overflow": null,
      "overflow_x": null,
      "overflow_y": null,
      "padding": null,
      "right": null,
      "top": null,
      "visibility": null,
      "width": null
     }
    },
    "ae7a0ec465414c32ba7bf82b765bee07": {
     "model_module": "@jupyter-widgets/controls",
     "model_name": "ProgressStyleModel",
     "state": {
      "_model_module": "@jupyter-widgets/controls",
      "_model_module_version": "1.5.0",
      "_model_name": "ProgressStyleModel",
      "_view_count": null,
      "_view_module": "@jupyter-widgets/base",
      "_view_module_version": "1.2.0",
      "_view_name": "StyleView",
      "bar_color": null,
      "description_width": "initial"
     }
    },
    "afc183dd97a34c2b8632502ad41986e8": {
     "model_module": "@jupyter-widgets/controls",
     "model_name": "DescriptionStyleModel",
     "state": {
      "_model_module": "@jupyter-widgets/controls",
      "_model_module_version": "1.5.0",
      "_model_name": "DescriptionStyleModel",
      "_view_count": null,
      "_view_module": "@jupyter-widgets/base",
      "_view_module_version": "1.2.0",
      "_view_name": "StyleView",
      "description_width": ""
     }
    },
    "b11186dc41aa4265a790fec3a91146aa": {
     "model_module": "@jupyter-widgets/base",
     "model_name": "LayoutModel",
     "state": {
      "_model_module": "@jupyter-widgets/base",
      "_model_module_version": "1.2.0",
      "_model_name": "LayoutModel",
      "_view_count": null,
      "_view_module": "@jupyter-widgets/base",
      "_view_module_version": "1.2.0",
      "_view_name": "LayoutView",
      "align_content": null,
      "align_items": null,
      "align_self": null,
      "border": null,
      "bottom": null,
      "display": null,
      "flex": null,
      "flex_flow": null,
      "grid_area": null,
      "grid_auto_columns": null,
      "grid_auto_flow": null,
      "grid_auto_rows": null,
      "grid_column": null,
      "grid_gap": null,
      "grid_row": null,
      "grid_template_areas": null,
      "grid_template_columns": null,
      "grid_template_rows": null,
      "height": null,
      "justify_content": null,
      "justify_items": null,
      "left": null,
      "margin": null,
      "max_height": null,
      "max_width": null,
      "min_height": null,
      "min_width": null,
      "object_fit": null,
      "object_position": null,
      "order": null,
      "overflow": null,
      "overflow_x": null,
      "overflow_y": null,
      "padding": null,
      "right": null,
      "top": null,
      "visibility": null,
      "width": null
     }
    },
    "baf8172b187d48e69762876829e3bbdd": {
     "model_module": "@jupyter-widgets/base",
     "model_name": "LayoutModel",
     "state": {
      "_model_module": "@jupyter-widgets/base",
      "_model_module_version": "1.2.0",
      "_model_name": "LayoutModel",
      "_view_count": null,
      "_view_module": "@jupyter-widgets/base",
      "_view_module_version": "1.2.0",
      "_view_name": "LayoutView",
      "align_content": null,
      "align_items": null,
      "align_self": null,
      "border": null,
      "bottom": null,
      "display": null,
      "flex": null,
      "flex_flow": null,
      "grid_area": null,
      "grid_auto_columns": null,
      "grid_auto_flow": null,
      "grid_auto_rows": null,
      "grid_column": null,
      "grid_gap": null,
      "grid_row": null,
      "grid_template_areas": null,
      "grid_template_columns": null,
      "grid_template_rows": null,
      "height": null,
      "justify_content": null,
      "justify_items": null,
      "left": null,
      "margin": null,
      "max_height": null,
      "max_width": null,
      "min_height": null,
      "min_width": null,
      "object_fit": null,
      "object_position": null,
      "order": null,
      "overflow": null,
      "overflow_x": null,
      "overflow_y": null,
      "padding": null,
      "right": null,
      "top": null,
      "visibility": null,
      "width": null
     }
    },
    "bb2e294bde1745c29d1869f8d1dea422": {
     "model_module": "@jupyter-widgets/base",
     "model_name": "LayoutModel",
     "state": {
      "_model_module": "@jupyter-widgets/base",
      "_model_module_version": "1.2.0",
      "_model_name": "LayoutModel",
      "_view_count": null,
      "_view_module": "@jupyter-widgets/base",
      "_view_module_version": "1.2.0",
      "_view_name": "LayoutView",
      "align_content": null,
      "align_items": null,
      "align_self": null,
      "border": null,
      "bottom": null,
      "display": null,
      "flex": null,
      "flex_flow": null,
      "grid_area": null,
      "grid_auto_columns": null,
      "grid_auto_flow": null,
      "grid_auto_rows": null,
      "grid_column": null,
      "grid_gap": null,
      "grid_row": null,
      "grid_template_areas": null,
      "grid_template_columns": null,
      "grid_template_rows": null,
      "height": null,
      "justify_content": null,
      "justify_items": null,
      "left": null,
      "margin": null,
      "max_height": null,
      "max_width": null,
      "min_height": null,
      "min_width": null,
      "object_fit": null,
      "object_position": null,
      "order": null,
      "overflow": null,
      "overflow_x": null,
      "overflow_y": null,
      "padding": null,
      "right": null,
      "top": null,
      "visibility": null,
      "width": null
     }
    },
    "c1232131146f47e7b14108d947e28ecc": {
     "model_module": "@jupyter-widgets/base",
     "model_name": "LayoutModel",
     "state": {
      "_model_module": "@jupyter-widgets/base",
      "_model_module_version": "1.2.0",
      "_model_name": "LayoutModel",
      "_view_count": null,
      "_view_module": "@jupyter-widgets/base",
      "_view_module_version": "1.2.0",
      "_view_name": "LayoutView",
      "align_content": null,
      "align_items": null,
      "align_self": null,
      "border": null,
      "bottom": null,
      "display": null,
      "flex": null,
      "flex_flow": null,
      "grid_area": null,
      "grid_auto_columns": null,
      "grid_auto_flow": null,
      "grid_auto_rows": null,
      "grid_column": null,
      "grid_gap": null,
      "grid_row": null,
      "grid_template_areas": null,
      "grid_template_columns": null,
      "grid_template_rows": null,
      "height": null,
      "justify_content": null,
      "justify_items": null,
      "left": null,
      "margin": null,
      "max_height": null,
      "max_width": null,
      "min_height": null,
      "min_width": null,
      "object_fit": null,
      "object_position": null,
      "order": null,
      "overflow": null,
      "overflow_x": null,
      "overflow_y": null,
      "padding": null,
      "right": null,
      "top": null,
      "visibility": null,
      "width": null
     }
    },
    "c39c16fce520495c96e1c7d583e432ed": {
     "model_module": "@jupyter-widgets/controls",
     "model_name": "FloatProgressModel",
     "state": {
      "_dom_classes": [],
      "_model_module": "@jupyter-widgets/controls",
      "_model_module_version": "1.5.0",
      "_model_name": "FloatProgressModel",
      "_view_count": null,
      "_view_module": "@jupyter-widgets/controls",
      "_view_module_version": "1.5.0",
      "_view_name": "ProgressView",
      "bar_style": "success",
      "description": "Downloading: 100%",
      "description_tooltip": null,
      "layout": "IPY_MODEL_baf8172b187d48e69762876829e3bbdd",
      "max": 433,
      "min": 0,
      "orientation": "horizontal",
      "style": "IPY_MODEL_46a75bbbb04a4eecaa4cfdfca6b28ce1",
      "value": 433
     }
    },
    "cfcbccbcd92443e982a211534d8ee078": {
     "model_module": "@jupyter-widgets/base",
     "model_name": "LayoutModel",
     "state": {
      "_model_module": "@jupyter-widgets/base",
      "_model_module_version": "1.2.0",
      "_model_name": "LayoutModel",
      "_view_count": null,
      "_view_module": "@jupyter-widgets/base",
      "_view_module_version": "1.2.0",
      "_view_name": "LayoutView",
      "align_content": null,
      "align_items": null,
      "align_self": null,
      "border": null,
      "bottom": null,
      "display": null,
      "flex": null,
      "flex_flow": null,
      "grid_area": null,
      "grid_auto_columns": null,
      "grid_auto_flow": null,
      "grid_auto_rows": null,
      "grid_column": null,
      "grid_gap": null,
      "grid_row": null,
      "grid_template_areas": null,
      "grid_template_columns": null,
      "grid_template_rows": null,
      "height": null,
      "justify_content": null,
      "justify_items": null,
      "left": null,
      "margin": null,
      "max_height": null,
      "max_width": null,
      "min_height": null,
      "min_width": null,
      "object_fit": null,
      "object_position": null,
      "order": null,
      "overflow": null,
      "overflow_x": null,
      "overflow_y": null,
      "padding": null,
      "right": null,
      "top": null,
      "visibility": null,
      "width": null
     }
    },
    "d125a25d67da44f9bb291404ae1e4469": {
     "model_module": "@jupyter-widgets/controls",
     "model_name": "HBoxModel",
     "state": {
      "_dom_classes": [],
      "_model_module": "@jupyter-widgets/controls",
      "_model_module_version": "1.5.0",
      "_model_name": "HBoxModel",
      "_view_count": null,
      "_view_module": "@jupyter-widgets/controls",
      "_view_module_version": "1.5.0",
      "_view_name": "HBoxView",
      "box_style": "",
      "children": [
       "IPY_MODEL_911b60f28e7f49ab8d62403a237a52f0",
       "IPY_MODEL_601db603cf754a12b17266657a2db449"
      ],
      "layout": "IPY_MODEL_c1232131146f47e7b14108d947e28ecc"
     }
    },
    "d83b8dba80c94024b652e7bc3d6462ba": {
     "model_module": "@jupyter-widgets/base",
     "model_name": "LayoutModel",
     "state": {
      "_model_module": "@jupyter-widgets/base",
      "_model_module_version": "1.2.0",
      "_model_name": "LayoutModel",
      "_view_count": null,
      "_view_module": "@jupyter-widgets/base",
      "_view_module_version": "1.2.0",
      "_view_name": "LayoutView",
      "align_content": null,
      "align_items": null,
      "align_self": null,
      "border": null,
      "bottom": null,
      "display": null,
      "flex": null,
      "flex_flow": null,
      "grid_area": null,
      "grid_auto_columns": null,
      "grid_auto_flow": null,
      "grid_auto_rows": null,
      "grid_column": null,
      "grid_gap": null,
      "grid_row": null,
      "grid_template_areas": null,
      "grid_template_columns": null,
      "grid_template_rows": null,
      "height": null,
      "justify_content": null,
      "justify_items": null,
      "left": null,
      "margin": null,
      "max_height": null,
      "max_width": null,
      "min_height": null,
      "min_width": null,
      "object_fit": null,
      "object_position": null,
      "order": null,
      "overflow": null,
      "overflow_x": null,
      "overflow_y": null,
      "padding": null,
      "right": null,
      "top": null,
      "visibility": null,
      "width": null
     }
    },
    "ff1b999d0bcb40749c0792049200bb1c": {
     "model_module": "@jupyter-widgets/controls",
     "model_name": "HBoxModel",
     "state": {
      "_dom_classes": [],
      "_model_module": "@jupyter-widgets/controls",
      "_model_module_version": "1.5.0",
      "_model_name": "HBoxModel",
      "_view_count": null,
      "_view_module": "@jupyter-widgets/controls",
      "_view_module_version": "1.5.0",
      "_view_name": "HBoxView",
      "box_style": "",
      "children": [
       "IPY_MODEL_c39c16fce520495c96e1c7d583e432ed",
       "IPY_MODEL_75ee14f16a2045b6970f59a70851a1f6"
      ],
      "layout": "IPY_MODEL_bb2e294bde1745c29d1869f8d1dea422"
     }
    }
   }
  }
 },
 "nbformat": 4,
 "nbformat_minor": 4
}
