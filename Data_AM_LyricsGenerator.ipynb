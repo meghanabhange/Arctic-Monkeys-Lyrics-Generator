{
 "cells": [
  {
   "cell_type": "markdown",
   "metadata": {
    "colab_type": "text",
    "id": "view-in-github",
    "slideshow": {
     "slide_type": "skip"
    }
   },
   "source": [
    "<a href=\"https://colab.research.google.com/github/meghanabhange/Arctic-Monkeys-Lyrics-Generator/blob/master/Data_AM_LyricsGenerator.ipynb\" target=\"_parent\"><img src=\"https://colab.research.google.com/assets/colab-badge.svg\" alt=\"Open In Colab\"/></a>"
   ]
  },
  {
   "cell_type": "markdown",
   "metadata": {
    "colab_type": "text",
    "id": "lWxS_7EjS0nm",
    "slideshow": {
     "slide_type": "slide"
    }
   },
   "source": [
    "# Let's get the data first"
   ]
  },
  {
   "cell_type": "markdown",
   "metadata": {
    "colab_type": "text",
    "id": "X5pNwMX6_90v",
    "slideshow": {
     "slide_type": "subslide"
    }
   },
   "source": [
    "To get all those amazing Arctic Monkeys lyrics I am using [lyricsgenius Python Package](https://github.com/johnwmillr/LyricsGenius)\n",
    "\n",
    "First you need to get your API Keys, you can do that by registering your project here and generating a client access token\n",
    "\n",
    "[Get your API key here](https://genius.com/api-clients)\n",
    "\n",
    "![img](https://i.imgur.com/xmQDBgY.png)\n"
   ]
  },
  {
   "cell_type": "code",
   "execution_count": 1,
   "metadata": {
    "colab": {},
    "colab_type": "code",
    "id": "vICvgkNG_cA9",
    "slideshow": {
     "slide_type": "skip"
    }
   },
   "outputs": [],
   "source": [
    "import warnings\n",
    "\n",
    "import requests\n",
    "\n",
    "warnings.filterwarnings('ignore')"
   ]
  },
  {
   "cell_type": "code",
   "execution_count": 0,
   "metadata": {
    "colab": {},
    "colab_type": "code",
    "id": "Khe1DkOf_rC6",
    "slideshow": {
     "slide_type": "skip"
    }
   },
   "outputs": [],
   "source": [
    "# !pip install lyricsgenius\n",
    "# @title Genius API Details\n",
    "\n",
    "import lyricsgenius as genius\n",
    "\n",
    "API_KEY = \"0kRvi0WFhTVqfsNzRlljlEfAKZpCfr5Xv4uEotCqUzI415HuB_eNdByfbehlk2Kv\"  # @param {type:\"string\"}\n",
    "ARTIST = \"Arctic Monkeys\"  # @param {type:\"string\"}"
   ]
  },
  {
   "cell_type": "code",
   "execution_count": 0,
   "metadata": {
    "colab": {
     "base_uri": "https://localhost:8080/",
     "height": 1000
    },
    "colab_type": "code",
    "id": "llISeTZcBXAL",
    "outputId": "37b6e0f5-9bb1-44f5-e7ed-2ae265f3bc99",
    "slideshow": {
     "slide_type": "subslide"
    }
   },
   "outputs": [
    {
     "name": "stdout",
     "output_type": "stream",
     "text": [
      "Searching for songs by Arctic Monkeys...\n",
      "\n",
      "Song 1: \"Do I Wanna Know?\"\n",
      "Song 2: \"Arabella\"\n",
      "Song 3: \"I Wanna Be Yours\"\n",
      "Song 4: \"R U Mine?\"\n",
      "Song 5: \"505\"\n",
      "Song 6: \"Knee Socks\"\n",
      "Song 7: \"Why’d You Only Call Me When You’re High?\"\n",
      "Song 8: \"Fluorescent Adolescent\"\n",
      "Song 9: \"No. 1 Party Anthem\"\n",
      "Song 10: \"Four Out of Five\"\n",
      "Song 11: \"Star Treatment\"\n",
      "Song 12: \"Snap Out of It\"\n",
      "Song 13: \"Tranquility Base Hotel & Casino\"\n",
      "Song 14: \"One for the Road\"\n",
      "Song 15: \"Suck It and See\"\n",
      "Song 16: \"Cornerstone\"\n",
      "Song 17: \"Fireside\"\n",
      "Song 18: \"One Point Perspective\"\n",
      "Song 19: \"Crying Lightning\"\n",
      "Song 20: \"Mardy Bum\"\n",
      "Song 21: \"The Ultracheese\"\n",
      "Song 22: \"I Bet You Look Good on the Dancefloor\"\n",
      "Song 23: \"Teddy Picker\"\n",
      "Song 24: \"When the Sun Goes Down\"\n",
      "Song 25: \"Stop the World I Wanna Get Off With You\"\n",
      "Song 26: \"Do Me a Favour\"\n",
      "Song 27: \"Batphone\"\n",
      "Song 28: \"I Want It All\"\n",
      "Song 29: \"Love Is a Laserquest\"\n",
      "Song 30: \"Only Ones Who Know\"\n",
      "Song 31: \"American Sports\"\n",
      "Song 32: \"Brianstorm\"\n",
      "Song 33: \"A Certain Romance\"\n",
      "Song 34: \"She Looks Like Fun\"\n",
      "Song 35: \"Piledriver Waltz\"\n",
      "Song 36: \"Old Yellow Bricks\"\n",
      "Song 37: \"Mad Sounds\"\n",
      "Song 38: \"Golden Trunks\"\n",
      "Song 39: \"From the Ritz to the Rubble\"\n",
      "Song 40: \"The World’s First Ever Monster Truck Front Flip\"\n",
      "Song 41: \"Science Fiction\"\n",
      "Song 42: \"The View from the Afternoon\"\n",
      "Song 43: \"Fake Tales of San Francisco\"\n",
      "Song 44: \"You’re So Dark\"\n",
      "Song 45: \"Balaclava\"\n",
      "Song 46: \"Pretty Visitors\"\n",
      "Song 47: \"My Propeller\"\n",
      "Song 48: \"No Buses\"\n",
      "Song 49: \"She’s Thunderstorms\"\n",
      "Song 50: \"Secret Door\"\n",
      "Song 51: \"D Is for Dangerous\"\n",
      "Song 52: \"Black Treacle\"\n",
      "Song 53: \"Despair in the Departure Lounge\"\n",
      "Song 54: \"Reckless Serenade\"\n",
      "Song 55: \"Dance Little Liar\"\n",
      "Song 56: \"The Jeweller’s Hands\"\n",
      "Song 57: \"You Probably Couldn’t See for the Lights But You Were Staring Straight at Me\"\n",
      "Song 58: \"Don’t Sit Down ’Cause I’ve Moved Your Chair\"\n",
      "Song 59: \"The Hellcat Spangled Shalalala\"\n",
      "Song 60: \"Riot Van\"\n",
      "Song 61: \"Red Light Indicates Doors Are Secured\"\n",
      "Song 62: \"Bigger Boys and Stolen Sweethearts\"\n",
      "Song 63: \"Dancing Shoes\"\n",
      "Song 64: \"Fire and the Thud\"\n",
      "Song 65: \"This House Is a Circus\"\n",
      "Song 66: \"The Bad Thing\"\n",
      "Song 67: \"Anyways\"\n",
      "Song 68: \"That’s Where You’re Wrong\"\n",
      "Song 69: \"If You Were There, Beware\"\n",
      "Song 70: \"Who the Fuck Are Arctic Monkeys?\"\n",
      "Song 71: \"Perhaps Vampires Is a Bit Strong But...\"\n",
      "Song 72: \"Dangerous Animals\"\n",
      "Song 73: \"Too Much to Ask\"\n",
      "Song 74: \"Library Pictures\"\n",
      "Song 75: \"Leave Before the Lights Come On\"\n",
      "Song 76: \"Still Take You Home\"\n",
      "Song 77: \"The Bakery\"\n",
      "Song 78: \"Red Right Hand\"\n",
      "Song 79: \"Potion Approaching\"\n",
      "Song 80: \"All My Own Stunts\"\n",
      "Song 81: \"Baby I’m Yours\"\n",
      "Song 82: \"Temptation Greets You Like Your Naughty Friend\"\n",
      "Song 83: \"Catapult\"\n",
      "Song 84: \"2013\"\n",
      "Song 85: \"Brick by Brick\"\n",
      "Song 86: \"Electricity\"\n",
      "Song 87: \"The Blond-O-Sonic Shimmer Trap\"\n",
      "Song 88: \"Evil Twin\"\n",
      "Song 89: \"-\"\n",
      "Song 90: \"Cigarette Smoker Fiona\"\n",
      "Song 91: \"Fright Lined Dining Room\"\n",
      "Song 92: \"You and I\"\n",
      "Song 93: \"Joining the Dots\"\n",
      "Song 94: \"Don’t Forget Whose Legs You’re On\"\n",
      "Song 95: \"I.D.S.T.\"\n",
      "Song 96: \"The Afternoon’s Hat\"\n",
      "Song 97: \"Settle for a Draw\"\n",
      "Song 98: \"Da Frame 2R\"\n",
      "Song 99: \"I Haven’t Got My Strange\"\n",
      "Song 100: \"Cigarette Smoke\"\n",
      "Song 101: \"If You Found This It’s Probably Too Late\"\n",
      "Song 102: \"Sketchead\"\n",
      "Song 103: \"7\"\n",
      "\"Whatever People Say I Am, That’s What I’m Not [Album Art]\" is not valid. Skipping.\n",
      "Song 104: \"Crying Lightning (Acoustic Version)\"\n",
      "Song 105: \"Matador\"\n",
      "Song 106: \"What If You Were Right the First Time?\"\n",
      "Song 107: \"The Lovers\"\n",
      "Song 108: \"Plastic Tramp\"\n",
      "Song 109: \"Only You Know\"\n",
      "Song 110: \"Little Illusion Machine (Wirral Riddler)\"\n",
      "Song 111: \"Bad Woman\"\n",
      "Song 112: \"Chun-Li’s Spinning Bird Kick\"\n",
      "Song 113: \"Put Your Dukes Up John\"\n",
      "Song 114: \"Hold On, We’re Going Home (Cover)\"\n",
      "\"Humbug [Booklet]\" is not valid. Skipping.\n",
      "Song 115: \"Riot Van (Demo)\"\n",
      "Song 116: \"Choo Choo\"\n",
      "Song 117: \"Nettles\"\n",
      "Song 118: \"Still Take You Home (Demo)\"\n",
      "Song 119: \"You Know I’m No Good (BBC 1 Radio Live Lounge)\"\n",
      "Song 120: \"Stickin’ to the Floor\"\n",
      "Song 121: \"Salt and Milk\"\n",
      "Song 122: \"The Jam of Boston\"\n",
      "Song 123: \"Knock a Door Run\"\n",
      "Song 124: \"Curtains Closed\"\n",
      "Song 125: \"Diamonds Are Forever\"\n",
      "Song 126: \"Scummy\"\n",
      "Song 127: \"Space Invaders\"\n",
      "Song 128: \"On the Run from the MI5\"\n",
      "Song 129: \"Ravey Ravey Ravey Club\"\n",
      "Song 130: \"Bigger Boys and Stolen Sweethearts (Demo)\"\n",
      "\"Fox Theater Setlist\" is not valid. Skipping.\n",
      "Song 131: \"Strange\"\n",
      "Song 132: \"Wavin’ Bye to the Train or the Bus\"\n",
      "Song 133: \"Love Machine\"\n",
      "Song 134: \"The Death Ramps\"\n",
      "Song 135: \"Come Together\"\n",
      "Song 136: \"The Bad Thing_2\"\n",
      "Song 137: \"Katy On a Mission\"\n",
      "Song 138: \"Dancing Shoes (Demo)\"\n",
      "Song 139: \"Sandtrap\"\n",
      "Song 140: \"Put Me In A Terror Pocket\"\n",
      "Song 141: \"Wagon On The Way To The Stripey Tent\"\n",
      "Song 142: \"Four Out of Five (Italian Translation)\"\n",
      "Song 143: \"Salt and Milk 2\"\n",
      "Song 144: \"The Bakery (Acoustic)\"\n",
      "Song 145: \"Reckless Serenade (Acoustic)\"\n",
      "Song 146: \"Salt by Milk\"\n",
      "Song 147: \"#hot16challenge2\"\n",
      "Song 148: \"Your´re So Dark\"\n",
      "Done. Found 148 songs.\n",
      "[('Do I Wanna Know?', 'Arctic Monkeys'), ('Arabella', 'Arctic Monkeys'), ('I Wanna Be Yours', 'Arctic Monkeys'), ('R U Mine?', 'Arctic Monkeys'), ('505', 'Arctic Monkeys'), ('Knee Socks', 'Arctic Monkeys'), ('Why’d You Only Call Me When You’re High?', 'Arctic Monkeys'), ('Fluorescent Adolescent', 'Arctic Monkeys'), ('No. 1 Party Anthem', 'Arctic Monkeys'), ('Four Out of Five', 'Arctic Monkeys'), ('Star Treatment', 'Arctic Monkeys'), ('Snap Out of It', 'Arctic Monkeys'), ('Tranquility Base Hotel & Casino', 'Arctic Monkeys'), ('One for the Road', 'Arctic Monkeys'), ('Suck It and See', 'Arctic Monkeys'), ('Cornerstone', 'Arctic Monkeys'), ('Fireside', 'Arctic Monkeys'), ('One Point Perspective', 'Arctic Monkeys'), ('Crying Lightning', 'Arctic Monkeys'), ('Mardy Bum', 'Arctic Monkeys'), ('The Ultracheese', 'Arctic Monkeys'), ('I Bet You Look Good on the Dancefloor', 'Arctic Monkeys'), ('Teddy Picker', 'Arctic Monkeys'), ('When the Sun Goes Down', 'Arctic Monkeys'), ('Stop the World I Wanna Get Off With You', 'Arctic Monkeys'), ('Do Me a Favour', 'Arctic Monkeys'), ('Batphone', 'Arctic Monkeys'), ('I Want It All', 'Arctic Monkeys'), ('Love Is a Laserquest', 'Arctic Monkeys'), ('Only Ones Who Know', 'Arctic Monkeys'), ('American Sports', 'Arctic Monkeys'), ('Brianstorm', 'Arctic Monkeys'), ('A Certain Romance', 'Arctic Monkeys'), ('She Looks Like Fun', 'Arctic Monkeys'), ('Piledriver Waltz', 'Arctic Monkeys'), ('Old Yellow Bricks', 'Arctic Monkeys'), ('Mad Sounds', 'Arctic Monkeys'), ('Golden Trunks', 'Arctic Monkeys'), ('From the Ritz to the Rubble', 'Arctic Monkeys'), ('The World’s First Ever Monster Truck Front Flip', 'Arctic Monkeys'), ('Science Fiction', 'Arctic Monkeys'), ('The View from the Afternoon', 'Arctic Monkeys'), ('Fake Tales of San Francisco', 'Arctic Monkeys'), ('You’re So Dark', 'Arctic Monkeys'), ('Balaclava', 'Arctic Monkeys'), ('Pretty Visitors', 'Arctic Monkeys'), ('My Propeller', 'Arctic Monkeys'), ('No Buses', 'Arctic Monkeys'), ('She’s Thunderstorms', 'Arctic Monkeys'), ('Secret Door', 'Arctic Monkeys'), ('D Is for Dangerous', 'Arctic Monkeys'), ('Black Treacle', 'Arctic Monkeys'), ('Despair in the Departure Lounge', 'Arctic Monkeys'), ('Reckless Serenade', 'Arctic Monkeys'), ('Dance Little Liar', 'Arctic Monkeys'), ('The Jeweller’s Hands', 'Arctic Monkeys'), ('You Probably Couldn’t See for the Lights But You Were Staring Straight at Me', 'Arctic Monkeys'), ('Don’t Sit Down ’Cause I’ve Moved Your Chair', 'Arctic Monkeys'), ('The Hellcat Spangled Shalalala', 'Arctic Monkeys'), ('Riot Van', 'Arctic Monkeys'), ('Red Light Indicates Doors Are Secured', 'Arctic Monkeys'), ('Bigger Boys and Stolen Sweethearts', 'Arctic Monkeys'), ('Dancing Shoes', 'Arctic Monkeys'), ('Fire and the Thud', 'Arctic Monkeys'), ('This House Is a Circus', 'Arctic Monkeys'), ('The Bad Thing', 'Arctic Monkeys'), ('Anyways', 'Arctic Monkeys'), ('That’s Where You’re Wrong', 'Arctic Monkeys'), ('If You Were There, Beware', 'Arctic Monkeys'), ('Who the Fuck Are Arctic Monkeys?', 'Arctic Monkeys'), ('Perhaps Vampires Is a Bit Strong But...', 'Arctic Monkeys'), ('Dangerous Animals', 'Arctic Monkeys'), ('Too Much to Ask', 'Arctic Monkeys'), ('Library Pictures', 'Arctic Monkeys'), ('Leave Before the Lights Come On', 'Arctic Monkeys'), ('Still Take You Home', 'Arctic Monkeys'), ('The Bakery', 'Arctic Monkeys'), ('Red Right Hand', 'Arctic Monkeys'), ('Potion Approaching', 'Arctic Monkeys'), ('All My Own Stunts', 'Arctic Monkeys'), ('Baby I’m Yours', 'Arctic Monkeys'), ('Temptation Greets You Like Your Naughty Friend', 'Arctic Monkeys'), ('Catapult', 'Arctic Monkeys'), ('2013', 'Arctic Monkeys'), ('Brick by Brick', 'Arctic Monkeys'), ('Electricity', 'Arctic Monkeys'), ('The Blond-O-Sonic Shimmer Trap', 'Arctic Monkeys'), ('Evil Twin', 'Arctic Monkeys'), ('-', 'Arctic Monkeys'), ('Cigarette Smoker Fiona', 'Arctic Monkeys'), ('Fright Lined Dining Room', 'Arctic Monkeys'), ('You and I', 'Arctic Monkeys'), ('Joining the Dots', 'Arctic Monkeys'), ('Don’t Forget Whose Legs You’re On', 'Arctic Monkeys'), ('I.D.S.T.', 'Arctic Monkeys'), ('The Afternoon’s Hat', 'Arctic Monkeys'), ('Settle for a Draw', 'Arctic Monkeys'), ('Da Frame 2R', 'Arctic Monkeys'), ('I Haven’t Got My Strange', 'Arctic Monkeys'), ('Cigarette Smoke', 'Arctic Monkeys'), ('If You Found This It’s Probably Too Late', 'Arctic Monkeys'), ('Sketchead', 'Arctic Monkeys'), ('7', 'Arctic Monkeys'), ('Crying Lightning (Acoustic Version)', 'Arctic Monkeys'), ('Matador', 'Arctic Monkeys'), ('What If You Were Right the First Time?', 'Arctic Monkeys'), ('The Lovers', 'Arctic Monkeys'), ('Plastic Tramp', 'Arctic Monkeys'), ('Only You Know', 'Arctic Monkeys'), ('Little Illusion Machine (Wirral Riddler)', 'Arctic Monkeys'), ('Bad Woman', 'Arctic Monkeys'), ('Chun-Li’s Spinning Bird Kick', 'Arctic Monkeys'), ('Put Your Dukes Up John', 'Arctic Monkeys'), ('Hold On, We’re Going Home (Cover)', 'Arctic Monkeys'), ('Riot Van (Demo)', 'Arctic Monkeys'), ('Choo Choo', 'Arctic Monkeys'), ('Nettles', 'Arctic Monkeys'), ('Still Take You Home (Demo)', 'Arctic Monkeys'), ('You Know I’m No Good (BBC 1 Radio Live Lounge)', 'Arctic Monkeys'), ('Stickin’ to the Floor', 'Arctic Monkeys'), ('Salt and Milk', 'Arctic Monkeys'), ('The Jam of Boston', 'Arctic Monkeys'), ('Knock a Door Run', 'Arctic Monkeys'), ('Curtains Closed', 'Arctic Monkeys'), ('Diamonds Are Forever', 'Arctic Monkeys'), ('Scummy', 'Arctic Monkeys'), ('Space Invaders', 'Arctic Monkeys'), ('On the Run from the MI5', 'Arctic Monkeys'), ('Ravey Ravey Ravey Club', 'Arctic Monkeys'), ('Bigger Boys and Stolen Sweethearts (Demo)', 'Arctic Monkeys'), ('Strange', 'Arctic Monkeys'), ('Wavin’ Bye to the Train or the Bus', 'Arctic Monkeys'), ('Love Machine', 'Arctic Monkeys'), ('The Death Ramps', 'Arctic Monkeys'), ('Come Together', 'Arctic Monkeys'), ('The Bad Thing_2', 'Arctic Monkeys'), ('Katy On a Mission', 'Arctic Monkeys'), ('Dancing Shoes (Demo)', 'Arctic Monkeys'), ('Sandtrap', 'Arctic Monkeys'), ('Put Me In A Terror Pocket', 'Arctic Monkeys'), ('Wagon On The Way To The Stripey Tent', 'Arctic Monkeys'), ('Four Out of Five (Italian Translation)', 'Arctic Monkeys'), ('Salt and Milk 2', 'Arctic Monkeys'), ('The Bakery (Acoustic)', 'Arctic Monkeys'), ('Reckless Serenade (Acoustic)', 'Arctic Monkeys'), ('Salt by Milk', 'Arctic Monkeys'), ('#hot16challenge2', 'Arctic Monkeys'), ('Your´re So Dark', 'Arctic Monkeys')]\n"
     ]
    }
   ],
   "source": [
    "api = genius.Genius(API_KEY)\n",
    "artist = api.search_artist(ARTIST)\n",
    "print(artist.songs)"
   ]
  },
  {
   "cell_type": "markdown",
   "metadata": {
    "slideshow": {
     "slide_type": "slide"
    }
   },
   "source": [
    "## We can save all the lyrics as JSON"
   ]
  },
  {
   "cell_type": "code",
   "execution_count": 0,
   "metadata": {
    "colab": {
     "base_uri": "https://localhost:8080/",
     "height": 69
    },
    "colab_type": "code",
    "id": "-2UZ5ykVFt1_",
    "outputId": "4203912f-5521-47b4-8622-4aacc5c28988",
    "slideshow": {
     "slide_type": "fragment"
    }
   },
   "outputs": [
    {
     "name": "stdout",
     "output_type": "stream",
     "text": [
      "Lyrics_ArcticMonkeys.json already exists. Overwrite?\n",
      "(y/n): Y\n",
      "Wrote `Lyrics_ArcticMonkeys.json`\n"
     ]
    }
   ],
   "source": [
    "artist.save_lyrics()"
   ]
  },
  {
   "cell_type": "markdown",
   "metadata": {
    "slideshow": {
     "slide_type": "slide"
    }
   },
   "source": [
    "Skipping other details like Album name, release date and much more to keep what's relevant to use. The Lyrics"
   ]
  },
  {
   "cell_type": "code",
   "execution_count": 0,
   "metadata": {
    "colab": {},
    "colab_type": "code",
    "id": "xHJUqwW0Dn_P",
    "slideshow": {
     "slide_type": "fragment"
    }
   },
   "outputs": [],
   "source": [
    "import json\n",
    "\n",
    "with open(\"Lyrics_ArcticMonkeys.json\") as f:\n",
    "    data = json.load(f)"
   ]
  },
  {
   "cell_type": "code",
   "execution_count": 0,
   "metadata": {
    "colab": {
     "base_uri": "https://localhost:8080/",
     "height": 206
    },
    "colab_type": "code",
    "id": "RRnEwvtYJdmf",
    "outputId": "cbdd68cb-474c-4e3e-ed18-0b47961b2f5a",
    "slideshow": {
     "slide_type": "fragment"
    }
   },
   "outputs": [
    {
     "data": {
      "text/html": [
       "<div>\n",
       "<style scoped>\n",
       "    .dataframe tbody tr th:only-of-type {\n",
       "        vertical-align: middle;\n",
       "    }\n",
       "\n",
       "    .dataframe tbody tr th {\n",
       "        vertical-align: top;\n",
       "    }\n",
       "\n",
       "    .dataframe thead th {\n",
       "        text-align: right;\n",
       "    }\n",
       "</style>\n",
       "<table border=\"1\" class=\"dataframe\">\n",
       "  <thead>\n",
       "    <tr style=\"text-align: right;\">\n",
       "      <th></th>\n",
       "      <th>title</th>\n",
       "      <th>lyrics</th>\n",
       "    </tr>\n",
       "  </thead>\n",
       "  <tbody>\n",
       "    <tr>\n",
       "      <th>0</th>\n",
       "      <td>Do I Wanna Know?</td>\n",
       "      <td>[Verse 1]\\nHave you got colour in your cheeks?...</td>\n",
       "    </tr>\n",
       "    <tr>\n",
       "      <th>1</th>\n",
       "      <td>Arabella</td>\n",
       "      <td>[Verse 1]\\nArabella's got some interstellar-ga...</td>\n",
       "    </tr>\n",
       "    <tr>\n",
       "      <th>2</th>\n",
       "      <td>I Wanna Be Yours</td>\n",
       "      <td>[Verse 1]\\nI wanna be your vacuum cleaner\\nBre...</td>\n",
       "    </tr>\n",
       "    <tr>\n",
       "      <th>4</th>\n",
       "      <td>505</td>\n",
       "      <td>[Chorus]\\nI'm going back to 505\\nIf it's a sev...</td>\n",
       "    </tr>\n",
       "    <tr>\n",
       "      <th>6</th>\n",
       "      <td>Why’d You Only Call Me When You’re High?</td>\n",
       "      <td>[Verse 1]\\nThe mirror's image tells me it's ho...</td>\n",
       "    </tr>\n",
       "  </tbody>\n",
       "</table>\n",
       "</div>"
      ],
      "text/plain": [
       "                                      title                                             lyrics\n",
       "0                          Do I Wanna Know?  [Verse 1]\\nHave you got colour in your cheeks?...\n",
       "1                                  Arabella  [Verse 1]\\nArabella's got some interstellar-ga...\n",
       "2                          I Wanna Be Yours  [Verse 1]\\nI wanna be your vacuum cleaner\\nBre...\n",
       "4                                       505  [Chorus]\\nI'm going back to 505\\nIf it's a sev...\n",
       "6  Why’d You Only Call Me When You’re High?  [Verse 1]\\nThe mirror's image tells me it's ho..."
      ]
     },
     "execution_count": 6,
     "metadata": {
      "tags": []
     },
     "output_type": "execute_result"
    }
   ],
   "source": [
    "import pandas as pd\n",
    "\n",
    "df = pd.DataFrame(data[\"songs\"])[[\"title\", \"lyrics\"]]\n",
    "df.dropna(inplace=True)\n",
    "df.head()"
   ]
  },
  {
   "cell_type": "markdown",
   "metadata": {
    "slideshow": {
     "slide_type": "slide"
    }
   },
   "source": [
    "getting rid of some mess"
   ]
  },
  {
   "cell_type": "code",
   "execution_count": 0,
   "metadata": {
    "colab": {
     "base_uri": "https://localhost:8080/",
     "height": 206
    },
    "colab_type": "code",
    "id": "cmmmwg5gKrzh",
    "outputId": "320898cb-02f9-4b43-b09a-c5fb472b3c57",
    "slideshow": {
     "slide_type": "fragment"
    }
   },
   "outputs": [
    {
     "data": {
      "text/html": [
       "<div>\n",
       "<style scoped>\n",
       "    .dataframe tbody tr th:only-of-type {\n",
       "        vertical-align: middle;\n",
       "    }\n",
       "\n",
       "    .dataframe tbody tr th {\n",
       "        vertical-align: top;\n",
       "    }\n",
       "\n",
       "    .dataframe thead th {\n",
       "        text-align: right;\n",
       "    }\n",
       "</style>\n",
       "<table border=\"1\" class=\"dataframe\">\n",
       "  <thead>\n",
       "    <tr style=\"text-align: right;\">\n",
       "      <th></th>\n",
       "      <th>title</th>\n",
       "      <th>lyrics</th>\n",
       "    </tr>\n",
       "  </thead>\n",
       "  <tbody>\n",
       "    <tr>\n",
       "      <th>0</th>\n",
       "      <td>Do I Wanna Know?</td>\n",
       "      <td>[verse 1] have you got colour in your cheeks? ...</td>\n",
       "    </tr>\n",
       "    <tr>\n",
       "      <th>1</th>\n",
       "      <td>Arabella</td>\n",
       "      <td>[verse 1] arabellas got some interstellar-gato...</td>\n",
       "    </tr>\n",
       "    <tr>\n",
       "      <th>2</th>\n",
       "      <td>I Wanna Be Yours</td>\n",
       "      <td>[verse 1] i wanna be your vacuum cleaner breat...</td>\n",
       "    </tr>\n",
       "    <tr>\n",
       "      <th>4</th>\n",
       "      <td>505</td>\n",
       "      <td>[chorus] im going back to 505 if its a seven-h...</td>\n",
       "    </tr>\n",
       "    <tr>\n",
       "      <th>6</th>\n",
       "      <td>Why’d You Only Call Me When You’re High?</td>\n",
       "      <td>[verse 1] the mirrors image tells me its home ...</td>\n",
       "    </tr>\n",
       "  </tbody>\n",
       "</table>\n",
       "</div>"
      ],
      "text/plain": [
       "                                      title                                             lyrics\n",
       "0                          Do I Wanna Know?  [verse 1] have you got colour in your cheeks? ...\n",
       "1                                  Arabella  [verse 1] arabellas got some interstellar-gato...\n",
       "2                          I Wanna Be Yours  [verse 1] i wanna be your vacuum cleaner breat...\n",
       "4                                       505  [chorus] im going back to 505 if its a seven-h...\n",
       "6  Why’d You Only Call Me When You’re High?  [verse 1] the mirrors image tells me its home ..."
      ]
     },
     "execution_count": 7,
     "metadata": {
      "tags": []
     },
     "output_type": "execute_result"
    }
   ],
   "source": [
    "df[\"lyrics\"] = (\n",
    "    df[\"lyrics\"]\n",
    "    .apply(lambda x: x.lower())\n",
    "    .apply(lambda x: x.replace(\"\\\\\", \" \"))\n",
    "    .apply(lambda x: x.replace(\"\\\\n\", \" \"))\n",
    "    .apply(lambda x: x.replace(\"\\n\", \" \"))\n",
    "    .apply(lambda x: x.replace(\"'\", \"\"))\n",
    ")\n",
    "df.head()"
   ]
  },
  {
   "cell_type": "markdown",
   "metadata": {
    "colab_type": "text",
    "id": "HSHBI4JHLTfV",
    "slideshow": {
     "slide_type": "slide"
    }
   },
   "source": [
    "# Text Augumentation"
   ]
  },
  {
   "cell_type": "code",
   "execution_count": 0,
   "metadata": {
    "colab": {
     "base_uri": "https://localhost:8080/",
     "height": 330
    },
    "colab_type": "code",
    "id": "zqHeOtyRLYPn",
    "outputId": "5eb1e2cc-ffa0-490d-bc2e-b00ff82884a2",
    "slideshow": {
     "slide_type": "skip"
    }
   },
   "outputs": [
    {
     "name": "stdout",
     "output_type": "stream",
     "text": [
      "Requirement already satisfied: nlpaug in /usr/local/lib/python3.6/dist-packages (0.0.14)\n",
      "Requirement already satisfied: transformers in /usr/local/lib/python3.6/dist-packages (2.9.1)\n",
      "Requirement already satisfied: numpy in /usr/local/lib/python3.6/dist-packages (from transformers) (1.18.4)\n",
      "Requirement already satisfied: tokenizers==0.7.0 in /usr/local/lib/python3.6/dist-packages (from transformers) (0.7.0)\n",
      "Requirement already satisfied: regex!=2019.12.17 in /usr/local/lib/python3.6/dist-packages (from transformers) (2019.12.20)\n",
      "Requirement already satisfied: filelock in /usr/local/lib/python3.6/dist-packages (from transformers) (3.0.12)\n",
      "Requirement already satisfied: requests in /usr/local/lib/python3.6/dist-packages (from transformers) (2.23.0)\n",
      "Requirement already satisfied: sacremoses in /usr/local/lib/python3.6/dist-packages (from transformers) (0.0.43)\n",
      "Requirement already satisfied: dataclasses; python_version < \"3.7\" in /usr/local/lib/python3.6/dist-packages (from transformers) (0.7)\n",
      "Requirement already satisfied: sentencepiece in /usr/local/lib/python3.6/dist-packages (from transformers) (0.1.90)\n",
      "Requirement already satisfied: tqdm>=4.27 in /usr/local/lib/python3.6/dist-packages (from transformers) (4.41.1)\n",
      "Requirement already satisfied: certifi>=2017.4.17 in /usr/local/lib/python3.6/dist-packages (from requests->transformers) (2020.4.5.1)\n",
      "Requirement already satisfied: urllib3!=1.25.0,!=1.25.1,<1.26,>=1.21.1 in /usr/local/lib/python3.6/dist-packages (from requests->transformers) (1.24.3)\n",
      "Requirement already satisfied: idna<3,>=2.5 in /usr/local/lib/python3.6/dist-packages (from requests->transformers) (2.9)\n",
      "Requirement already satisfied: chardet<4,>=3.0.2 in /usr/local/lib/python3.6/dist-packages (from requests->transformers) (3.0.4)\n",
      "Requirement already satisfied: joblib in /usr/local/lib/python3.6/dist-packages (from sacremoses->transformers) (0.14.1)\n",
      "Requirement already satisfied: click in /usr/local/lib/python3.6/dist-packages (from sacremoses->transformers) (7.1.2)\n",
      "Requirement already satisfied: six in /usr/local/lib/python3.6/dist-packages (from sacremoses->transformers) (1.12.0)\n"
     ]
    }
   ],
   "source": [
    "!pip install nlpaug\n",
    "!pip install transformers"
   ]
  },
  {
   "cell_type": "code",
   "execution_count": 0,
   "metadata": {
    "colab": {},
    "colab_type": "code",
    "id": "bi2CvfT5Lb3T",
    "slideshow": {
     "slide_type": "skip"
    }
   },
   "outputs": [],
   "source": [
    "import os\n",
    "import unittest\n",
    "from os.path import dirname, join\n",
    "\n",
    "import nlpaug.augmenter.char as nac\n",
    "import nlpaug.augmenter.word as naw\n",
    "import nlpaug.flow as naf\n",
    "from nlpaug import *\n",
    "from nlpaug.augmenter.word import ContextualWordEmbsAug\n",
    "from nlpaug.util import Action"
   ]
  },
  {
   "cell_type": "markdown",
   "metadata": {},
   "source": [
    "# Contextual WordEmbs Augumentation"
   ]
  },
  {
   "cell_type": "code",
   "execution_count": 0,
   "metadata": {
    "colab": {
     "base_uri": "https://localhost:8080/",
     "height": 86
    },
    "colab_type": "code",
    "id": "2GzqNhHqLerZ",
    "outputId": "ffdd7550-8f65-47d1-8ae1-3da5b360f7d5",
    "slideshow": {
     "slide_type": "fragment"
    }
   },
   "outputs": [
    {
     "name": "stdout",
     "output_type": "stream",
     "text": [
      "Original:\n",
      "have you got colour in your cheeks?\n",
      "Augmented Text:\n",
      "have you got colour in both your bloody cheeks ?\n"
     ]
    }
   ],
   "source": [
    "# @title Test Contextual WordEmbs Augumentation\n",
    "aug = naw.ContextualWordEmbsAug(model_path=\"bert-base-uncased\", action=\"insert\")\n",
    "\n",
    "test_text = \"have you got colour in your cheeks?\"  # @param {type:\"string\"}\n",
    "augmented_text = aug.augment(test_text)\n",
    "print(\"Original:\")\n",
    "print(test_text)\n",
    "print(\"Augmented Text:\")\n",
    "print(augmented_text)"
   ]
  },
  {
   "cell_type": "markdown",
   "metadata": {
    "slideshow": {
     "slide_type": "slide"
    }
   },
   "source": [
    "# Contextual WordEmbs Augumentation in a flow "
   ]
  },
  {
   "cell_type": "code",
   "execution_count": 0,
   "metadata": {
    "colab": {
     "base_uri": "https://localhost:8080/",
     "height": 34
    },
    "colab_type": "code",
    "id": "hTzjv7ulNBHb",
    "outputId": "ec01dafc-f0d0-4679-d0cb-b812d50cab3b",
    "slideshow": {
     "slide_type": "fragment"
    }
   },
   "outputs": [
    {
     "data": {
      "text/plain": [
       "'there somebody taller than the more prominent of a wit'"
      ]
     },
     "execution_count": 15,
     "metadata": {
      "tags": []
     },
     "output_type": "execute_result"
    }
   ],
   "source": [
    "# @title Test Contextual WordEmbs Augumentation\n",
    "aug = naf.Sequential(\n",
    "    [\n",
    "        ContextualWordEmbsAug(action=Action.INSERT),\n",
    "        ContextualWordEmbsAug(action=Action.SUBSTITUTE),\n",
    "        naw.RandomWordAug(),\n",
    "    ]\n",
    ")\n",
    "test_text = (\n",
    "    \"there is always somebody taller with more of a wit\"  # @param {type:\"string\"}\n",
    ")\n",
    "aug.augment(test_text)"
   ]
  },
  {
   "cell_type": "code",
   "execution_count": 0,
   "metadata": {
    "colab": {},
    "colab_type": "code",
    "id": "makflATIPc3c",
    "slideshow": {
     "slide_type": "skip"
    }
   },
   "outputs": [],
   "source": [
    "# !wget -c https://dl.fbaipublicfiles.com/fasttext/vectors-english/wiki-news-300d-1M-subword.vec.zip\n",
    "from zipfile import ZipFile\n",
    "\n",
    "zf = ZipFile(\"wiki-news-300d-1M-subword.vec.zip\", \"r\")\n",
    "zf.extractall(\"./\")\n",
    "zf.close()"
   ]
  },
  {
   "cell_type": "code",
   "execution_count": 0,
   "metadata": {
    "colab": {},
    "colab_type": "code",
    "id": "3zJsVnIoPxV7",
    "slideshow": {
     "slide_type": "slide"
    }
   },
   "outputs": [],
   "source": [
    "# @title Test FastText Aug\n",
    "augumented_fasttext = []\n",
    "aug = naw.FasttextAug(\n",
    "    model_path=\"wiki-news-300d-1M-subword.vec\", action=Action.SUBSTITUTE\n",
    ")\n",
    "text_text = (\n",
    "    \"there is always somebody taller with more of a wit\"  # @param {type:\"string\"}\n",
    ")\n",
    "aug.augment(text_text)"
   ]
  },
  {
   "cell_type": "code",
   "execution_count": 0,
   "metadata": {
    "colab": {},
    "colab_type": "code",
    "id": "2l0sV8cQPI4U",
    "slideshow": {
     "slide_type": "slide"
    }
   },
   "outputs": [],
   "source": [
    "def splitter(n, s):\n",
    "    pieces = s.split()\n",
    "    return [str(\" \".join(pieces[i : i + n])) for i in range(0, len(pieces), n)]"
   ]
  },
  {
   "cell_type": "code",
   "execution_count": 0,
   "metadata": {
    "colab": {
     "base_uri": "https://localhost:8080/",
     "height": 34
    },
    "colab_type": "code",
    "id": "wSleNNtEPlFZ",
    "outputId": "207710a6-04ea-405f-bd62-c367f2edde0e",
    "slideshow": {
     "slide_type": "fragment"
    }
   },
   "outputs": [
    {
     "data": {
      "text/plain": [
       "89483"
      ]
     },
     "execution_count": 19,
     "metadata": {
      "tags": []
     },
     "output_type": "execute_result"
    }
   ],
   "source": [
    "text = \" \".join(df.lyrics)\n",
    "len(text)"
   ]
  },
  {
   "cell_type": "code",
   "execution_count": 0,
   "metadata": {
    "colab": {
     "base_uri": "https://localhost:8080/",
     "height": 398
    },
    "colab_type": "code",
    "id": "zTD7gY0GPXvQ",
    "outputId": "1973bb40-b560-4024-83db-5afa1e2ecfbb",
    "slideshow": {
     "slide_type": "slide"
    }
   },
   "outputs": [
    {
     "name": "stderr",
     "output_type": "stream",
     "text": [
      " 31% (532 of 1712) |######               | Elapsed Time: 0:10:43 ETA:   0:21:18"
     ]
    },
    {
     "ename": "KeyboardInterrupt",
     "evalue": "ignored",
     "output_type": "error",
     "traceback": [
      "\u001b[0;31m---------------------------------------------------------------------------\u001b[0m",
      "\u001b[0;31mKeyboardInterrupt\u001b[0m                         Traceback (most recent call last)",
      "\u001b[0;32m<ipython-input-20-2e186558f6c1>\u001b[0m in \u001b[0;36m<module>\u001b[0;34m()\u001b[0m\n\u001b[1;32m      5\u001b[0m \u001b[0;32mfor\u001b[0m \u001b[0ms\u001b[0m \u001b[0;32min\u001b[0m \u001b[0mpbar\u001b[0m\u001b[0;34m(\u001b[0m\u001b[0msplitter\u001b[0m\u001b[0;34m(\u001b[0m\u001b[0;36m10\u001b[0m\u001b[0;34m,\u001b[0m \u001b[0mtext\u001b[0m\u001b[0;34m)\u001b[0m\u001b[0;34m)\u001b[0m\u001b[0;34m:\u001b[0m\u001b[0;34m\u001b[0m\u001b[0;34m\u001b[0m\u001b[0m\n\u001b[1;32m      6\u001b[0m   \u001b[0;32mtry\u001b[0m\u001b[0;34m:\u001b[0m\u001b[0;34m\u001b[0m\u001b[0;34m\u001b[0m\u001b[0m\n\u001b[0;32m----> 7\u001b[0;31m     \u001b[0maugumented\u001b[0m\u001b[0;34m.\u001b[0m\u001b[0mappend\u001b[0m\u001b[0;34m(\u001b[0m\u001b[0maug\u001b[0m\u001b[0;34m.\u001b[0m\u001b[0maugment\u001b[0m\u001b[0;34m(\u001b[0m\u001b[0ms\u001b[0m\u001b[0;34m)\u001b[0m\u001b[0;34m)\u001b[0m\u001b[0;34m\u001b[0m\u001b[0;34m\u001b[0m\u001b[0m\n\u001b[0m\u001b[1;32m      8\u001b[0m   \u001b[0;32mexcept\u001b[0m \u001b[0mValueError\u001b[0m\u001b[0;34m:\u001b[0m\u001b[0;34m\u001b[0m\u001b[0;34m\u001b[0m\u001b[0m\n\u001b[1;32m      9\u001b[0m     \u001b[0;32mpass\u001b[0m\u001b[0;34m\u001b[0m\u001b[0;34m\u001b[0m\u001b[0m\n",
      "\u001b[0;32m/usr/local/lib/python3.6/dist-packages/nlpaug/flow/pipeline.py\u001b[0m in \u001b[0;36maugment\u001b[0;34m(self, data, n, num_thread)\u001b[0m\n\u001b[1;32m     56\u001b[0m             \u001b[0maugmented_results\u001b[0m \u001b[0;34m=\u001b[0m \u001b[0;34m[\u001b[0m\u001b[0;34m]\u001b[0m\u001b[0;34m\u001b[0m\u001b[0;34m\u001b[0m\u001b[0m\n\u001b[1;32m     57\u001b[0m             \u001b[0;32mif\u001b[0m \u001b[0mnum_thread\u001b[0m \u001b[0;34m==\u001b[0m \u001b[0;36m1\u001b[0m\u001b[0;34m:\u001b[0m\u001b[0;34m\u001b[0m\u001b[0;34m\u001b[0m\u001b[0m\n\u001b[0;32m---> 58\u001b[0;31m                 \u001b[0maugmented_results\u001b[0m \u001b[0;34m=\u001b[0m \u001b[0;34m[\u001b[0m\u001b[0mself\u001b[0m\u001b[0;34m.\u001b[0m\u001b[0m_augment\u001b[0m\u001b[0;34m(\u001b[0m\u001b[0mdata\u001b[0m\u001b[0;34m)\u001b[0m \u001b[0;32mfor\u001b[0m \u001b[0m_\u001b[0m \u001b[0;32min\u001b[0m \u001b[0mrange\u001b[0m\u001b[0;34m(\u001b[0m\u001b[0mn\u001b[0m\u001b[0;34m)\u001b[0m\u001b[0;34m]\u001b[0m\u001b[0;34m\u001b[0m\u001b[0;34m\u001b[0m\u001b[0m\n\u001b[0m\u001b[1;32m     59\u001b[0m             \u001b[0;32melse\u001b[0m\u001b[0;34m:\u001b[0m\u001b[0;34m\u001b[0m\u001b[0;34m\u001b[0m\u001b[0m\n\u001b[1;32m     60\u001b[0m                 \u001b[0;32mif\u001b[0m \u001b[0mself\u001b[0m\u001b[0;34m.\u001b[0m\u001b[0mdevice\u001b[0m \u001b[0;34m==\u001b[0m \u001b[0;34m'cpu'\u001b[0m\u001b[0;34m:\u001b[0m\u001b[0;34m\u001b[0m\u001b[0;34m\u001b[0m\u001b[0m\n",
      "\u001b[0;32m/usr/local/lib/python3.6/dist-packages/nlpaug/flow/pipeline.py\u001b[0m in \u001b[0;36m<listcomp>\u001b[0;34m(.0)\u001b[0m\n\u001b[1;32m     56\u001b[0m             \u001b[0maugmented_results\u001b[0m \u001b[0;34m=\u001b[0m \u001b[0;34m[\u001b[0m\u001b[0;34m]\u001b[0m\u001b[0;34m\u001b[0m\u001b[0;34m\u001b[0m\u001b[0m\n\u001b[1;32m     57\u001b[0m             \u001b[0;32mif\u001b[0m \u001b[0mnum_thread\u001b[0m \u001b[0;34m==\u001b[0m \u001b[0;36m1\u001b[0m\u001b[0;34m:\u001b[0m\u001b[0;34m\u001b[0m\u001b[0;34m\u001b[0m\u001b[0m\n\u001b[0;32m---> 58\u001b[0;31m                 \u001b[0maugmented_results\u001b[0m \u001b[0;34m=\u001b[0m \u001b[0;34m[\u001b[0m\u001b[0mself\u001b[0m\u001b[0;34m.\u001b[0m\u001b[0m_augment\u001b[0m\u001b[0;34m(\u001b[0m\u001b[0mdata\u001b[0m\u001b[0;34m)\u001b[0m \u001b[0;32mfor\u001b[0m \u001b[0m_\u001b[0m \u001b[0;32min\u001b[0m \u001b[0mrange\u001b[0m\u001b[0;34m(\u001b[0m\u001b[0mn\u001b[0m\u001b[0;34m)\u001b[0m\u001b[0;34m]\u001b[0m\u001b[0;34m\u001b[0m\u001b[0;34m\u001b[0m\u001b[0m\n\u001b[0m\u001b[1;32m     59\u001b[0m             \u001b[0;32melse\u001b[0m\u001b[0;34m:\u001b[0m\u001b[0;34m\u001b[0m\u001b[0;34m\u001b[0m\u001b[0m\n\u001b[1;32m     60\u001b[0m                 \u001b[0;32mif\u001b[0m \u001b[0mself\u001b[0m\u001b[0;34m.\u001b[0m\u001b[0mdevice\u001b[0m \u001b[0;34m==\u001b[0m \u001b[0;34m'cpu'\u001b[0m\u001b[0;34m:\u001b[0m\u001b[0;34m\u001b[0m\u001b[0;34m\u001b[0m\u001b[0m\n",
      "\u001b[0;32m/usr/local/lib/python3.6/dist-packages/nlpaug/flow/pipeline.py\u001b[0m in \u001b[0;36m_augment\u001b[0;34m(self, data, n, num_thread)\u001b[0m\n\u001b[1;32m    100\u001b[0m             \u001b[0maug\u001b[0m\u001b[0;34m.\u001b[0m\u001b[0minclude_detail\u001b[0m \u001b[0;34m=\u001b[0m \u001b[0mparent_include_detail\u001b[0m  \u001b[0;31m# Follow parent setting\u001b[0m\u001b[0;34m\u001b[0m\u001b[0;34m\u001b[0m\u001b[0m\n\u001b[1;32m    101\u001b[0m             \u001b[0maug\u001b[0m\u001b[0;34m.\u001b[0m\u001b[0mparent_change_seq\u001b[0m \u001b[0;34m=\u001b[0m \u001b[0mself\u001b[0m\u001b[0;34m.\u001b[0m\u001b[0mparent_change_seq\u001b[0m\u001b[0;34m+\u001b[0m\u001b[0mlen\u001b[0m\u001b[0;34m(\u001b[0m\u001b[0mchange_logs\u001b[0m\u001b[0;34m)\u001b[0m\u001b[0;34m\u001b[0m\u001b[0;34m\u001b[0m\u001b[0m\n\u001b[0;32m--> 102\u001b[0;31m             \u001b[0maugmented_data\u001b[0m \u001b[0;34m=\u001b[0m \u001b[0maug\u001b[0m\u001b[0;34m.\u001b[0m\u001b[0maugment\u001b[0m\u001b[0;34m(\u001b[0m\u001b[0maugmented_data\u001b[0m\u001b[0;34m,\u001b[0m \u001b[0mn\u001b[0m\u001b[0;34m=\u001b[0m\u001b[0mn\u001b[0m\u001b[0;34m,\u001b[0m \u001b[0mnum_thread\u001b[0m\u001b[0;34m=\u001b[0m\u001b[0mnum_thread\u001b[0m\u001b[0;34m)\u001b[0m\u001b[0;34m\u001b[0m\u001b[0;34m\u001b[0m\u001b[0m\n\u001b[0m\u001b[1;32m    103\u001b[0m             \u001b[0;32mif\u001b[0m \u001b[0maug\u001b[0m\u001b[0;34m.\u001b[0m\u001b[0minclude_detail\u001b[0m\u001b[0;34m:\u001b[0m\u001b[0;34m\u001b[0m\u001b[0;34m\u001b[0m\u001b[0m\n\u001b[1;32m    104\u001b[0m                 \u001b[0;31m# (augmented_data, change_log)\u001b[0m\u001b[0;34m\u001b[0m\u001b[0;34m\u001b[0m\u001b[0;34m\u001b[0m\u001b[0m\n",
      "\u001b[0;32m/usr/local/lib/python3.6/dist-packages/nlpaug/base_augmenter.py\u001b[0m in \u001b[0;36maugment\u001b[0;34m(self, data, n, num_thread)\u001b[0m\n\u001b[1;32m     82\u001b[0m                 \u001b[0;31m# TODO: support multiprocessing for GPU\u001b[0m\u001b[0;34m\u001b[0m\u001b[0;34m\u001b[0m\u001b[0;34m\u001b[0m\u001b[0m\n\u001b[1;32m     83\u001b[0m                 \u001b[0;31m# https://discuss.pytorch.org/t/using-cuda-multiprocessing-with-single-gpu/7300\u001b[0m\u001b[0;34m\u001b[0m\u001b[0;34m\u001b[0m\u001b[0;34m\u001b[0m\u001b[0m\n\u001b[0;32m---> 84\u001b[0;31m                 \u001b[0maugmented_results\u001b[0m \u001b[0;34m=\u001b[0m \u001b[0;34m[\u001b[0m\u001b[0maction_fx\u001b[0m\u001b[0;34m(\u001b[0m\u001b[0mclean_data\u001b[0m\u001b[0;34m)\u001b[0m \u001b[0;32mfor\u001b[0m \u001b[0m_\u001b[0m \u001b[0;32min\u001b[0m \u001b[0mrange\u001b[0m\u001b[0;34m(\u001b[0m\u001b[0mn\u001b[0m\u001b[0;34m)\u001b[0m\u001b[0;34m]\u001b[0m\u001b[0;34m\u001b[0m\u001b[0;34m\u001b[0m\u001b[0m\n\u001b[0m\u001b[1;32m     85\u001b[0m             \u001b[0;32melse\u001b[0m\u001b[0;34m:\u001b[0m\u001b[0;34m\u001b[0m\u001b[0;34m\u001b[0m\u001b[0m\n\u001b[1;32m     86\u001b[0m                 \u001b[0maugmented_results\u001b[0m \u001b[0;34m=\u001b[0m \u001b[0mself\u001b[0m\u001b[0;34m.\u001b[0m\u001b[0m_parallel_augment\u001b[0m\u001b[0;34m(\u001b[0m\u001b[0maction_fx\u001b[0m\u001b[0;34m,\u001b[0m \u001b[0mclean_data\u001b[0m\u001b[0;34m,\u001b[0m \u001b[0mn\u001b[0m\u001b[0;34m=\u001b[0m\u001b[0mn\u001b[0m\u001b[0;34m,\u001b[0m \u001b[0mnum_thread\u001b[0m\u001b[0;34m=\u001b[0m\u001b[0mnum_thread\u001b[0m\u001b[0;34m)\u001b[0m\u001b[0;34m\u001b[0m\u001b[0;34m\u001b[0m\u001b[0m\n",
      "\u001b[0;32m/usr/local/lib/python3.6/dist-packages/nlpaug/base_augmenter.py\u001b[0m in \u001b[0;36m<listcomp>\u001b[0;34m(.0)\u001b[0m\n\u001b[1;32m     82\u001b[0m                 \u001b[0;31m# TODO: support multiprocessing for GPU\u001b[0m\u001b[0;34m\u001b[0m\u001b[0;34m\u001b[0m\u001b[0;34m\u001b[0m\u001b[0m\n\u001b[1;32m     83\u001b[0m                 \u001b[0;31m# https://discuss.pytorch.org/t/using-cuda-multiprocessing-with-single-gpu/7300\u001b[0m\u001b[0;34m\u001b[0m\u001b[0;34m\u001b[0m\u001b[0;34m\u001b[0m\u001b[0m\n\u001b[0;32m---> 84\u001b[0;31m                 \u001b[0maugmented_results\u001b[0m \u001b[0;34m=\u001b[0m \u001b[0;34m[\u001b[0m\u001b[0maction_fx\u001b[0m\u001b[0;34m(\u001b[0m\u001b[0mclean_data\u001b[0m\u001b[0;34m)\u001b[0m \u001b[0;32mfor\u001b[0m \u001b[0m_\u001b[0m \u001b[0;32min\u001b[0m \u001b[0mrange\u001b[0m\u001b[0;34m(\u001b[0m\u001b[0mn\u001b[0m\u001b[0;34m)\u001b[0m\u001b[0;34m]\u001b[0m\u001b[0;34m\u001b[0m\u001b[0;34m\u001b[0m\u001b[0m\n\u001b[0m\u001b[1;32m     85\u001b[0m             \u001b[0;32melse\u001b[0m\u001b[0;34m:\u001b[0m\u001b[0;34m\u001b[0m\u001b[0;34m\u001b[0m\u001b[0m\n\u001b[1;32m     86\u001b[0m                 \u001b[0maugmented_results\u001b[0m \u001b[0;34m=\u001b[0m \u001b[0mself\u001b[0m\u001b[0;34m.\u001b[0m\u001b[0m_parallel_augment\u001b[0m\u001b[0;34m(\u001b[0m\u001b[0maction_fx\u001b[0m\u001b[0;34m,\u001b[0m \u001b[0mclean_data\u001b[0m\u001b[0;34m,\u001b[0m \u001b[0mn\u001b[0m\u001b[0;34m=\u001b[0m\u001b[0mn\u001b[0m\u001b[0;34m,\u001b[0m \u001b[0mnum_thread\u001b[0m\u001b[0;34m=\u001b[0m\u001b[0mnum_thread\u001b[0m\u001b[0;34m)\u001b[0m\u001b[0;34m\u001b[0m\u001b[0;34m\u001b[0m\u001b[0m\n",
      "\u001b[0;32m/usr/local/lib/python3.6/dist-packages/nlpaug/augmenter/word/context_word_embs.py\u001b[0m in \u001b[0;36minsert\u001b[0;34m(self, data)\u001b[0m\n\u001b[1;32m    191\u001b[0m             \u001b[0mnew_word\u001b[0m\u001b[0;34m,\u001b[0m \u001b[0mprob\u001b[0m \u001b[0;34m=\u001b[0m \u001b[0;32mNone\u001b[0m\u001b[0;34m,\u001b[0m \u001b[0;32mNone\u001b[0m\u001b[0;34m\u001b[0m\u001b[0;34m\u001b[0m\u001b[0m\n\u001b[1;32m    192\u001b[0m             \u001b[0;32mfor\u001b[0m \u001b[0m_\u001b[0m \u001b[0;32min\u001b[0m \u001b[0mrange\u001b[0m\u001b[0;34m(\u001b[0m\u001b[0mretry_cnt\u001b[0m\u001b[0;34m)\u001b[0m\u001b[0;34m:\u001b[0m\u001b[0;34m\u001b[0m\u001b[0;34m\u001b[0m\u001b[0m\n\u001b[0;32m--> 193\u001b[0;31m                 \u001b[0moutputs\u001b[0m \u001b[0;34m=\u001b[0m \u001b[0mself\u001b[0m\u001b[0;34m.\u001b[0m\u001b[0mmodel\u001b[0m\u001b[0;34m.\u001b[0m\u001b[0mpredict\u001b[0m\u001b[0;34m(\u001b[0m\u001b[0mmasked_text\u001b[0m\u001b[0;34m,\u001b[0m \u001b[0mtarget_word\u001b[0m\u001b[0;34m=\u001b[0m\u001b[0;32mNone\u001b[0m\u001b[0;34m,\u001b[0m \u001b[0mn\u001b[0m\u001b[0;34m=\u001b[0m\u001b[0;36m1\u001b[0m\u001b[0;34m)\u001b[0m\u001b[0;34m\u001b[0m\u001b[0;34m\u001b[0m\u001b[0m\n\u001b[0m\u001b[1;32m    194\u001b[0m                 \u001b[0mcandidates\u001b[0m \u001b[0;34m=\u001b[0m \u001b[0moutputs\u001b[0m\u001b[0;34m[\u001b[0m\u001b[0;36m0\u001b[0m\u001b[0;34m]\u001b[0m\u001b[0;34m\u001b[0m\u001b[0;34m\u001b[0m\u001b[0m\n\u001b[1;32m    195\u001b[0m                 \u001b[0;32mif\u001b[0m \u001b[0mcandidates\u001b[0m \u001b[0;32mis\u001b[0m \u001b[0;32mNone\u001b[0m\u001b[0;34m:\u001b[0m\u001b[0;34m\u001b[0m\u001b[0;34m\u001b[0m\u001b[0m\n",
      "\u001b[0;32m/usr/local/lib/python3.6/dist-packages/nlpaug/model/lang_models/bert.py\u001b[0m in \u001b[0;36mpredict\u001b[0;34m(self, text, target_word, n)\u001b[0m\n\u001b[1;32m     53\u001b[0m         \u001b[0;31m# Prediction\u001b[0m\u001b[0;34m\u001b[0m\u001b[0;34m\u001b[0m\u001b[0;34m\u001b[0m\u001b[0m\n\u001b[1;32m     54\u001b[0m         \u001b[0;32mwith\u001b[0m \u001b[0mtorch\u001b[0m\u001b[0;34m.\u001b[0m\u001b[0mno_grad\u001b[0m\u001b[0;34m(\u001b[0m\u001b[0;34m)\u001b[0m\u001b[0;34m:\u001b[0m\u001b[0;34m\u001b[0m\u001b[0;34m\u001b[0m\u001b[0m\n\u001b[0;32m---> 55\u001b[0;31m             \u001b[0moutputs\u001b[0m \u001b[0;34m=\u001b[0m \u001b[0mself\u001b[0m\u001b[0;34m.\u001b[0m\u001b[0mmodel\u001b[0m\u001b[0;34m(\u001b[0m\u001b[0minput_ids\u001b[0m\u001b[0;34m=\u001b[0m\u001b[0mtoken_inputs\u001b[0m\u001b[0;34m,\u001b[0m \u001b[0mtoken_type_ids\u001b[0m\u001b[0;34m=\u001b[0m\u001b[0msegment_inputs\u001b[0m\u001b[0;34m,\u001b[0m \u001b[0mattention_mask\u001b[0m\u001b[0;34m=\u001b[0m\u001b[0mmask_inputs\u001b[0m\u001b[0;34m)\u001b[0m\u001b[0;34m\u001b[0m\u001b[0;34m\u001b[0m\u001b[0m\n\u001b[0m\u001b[1;32m     56\u001b[0m         \u001b[0mtarget_token_logits\u001b[0m \u001b[0;34m=\u001b[0m \u001b[0moutputs\u001b[0m\u001b[0;34m[\u001b[0m\u001b[0;36m0\u001b[0m\u001b[0;34m]\u001b[0m\u001b[0;34m[\u001b[0m\u001b[0;36m0\u001b[0m\u001b[0;34m]\u001b[0m\u001b[0;34m[\u001b[0m\u001b[0mtarget_pos\u001b[0m\u001b[0;34m]\u001b[0m\u001b[0;34m\u001b[0m\u001b[0;34m\u001b[0m\u001b[0m\n\u001b[1;32m     57\u001b[0m \u001b[0;34m\u001b[0m\u001b[0m\n",
      "\u001b[0;32m/usr/local/lib/python3.6/dist-packages/torch/nn/modules/module.py\u001b[0m in \u001b[0;36m__call__\u001b[0;34m(self, *input, **kwargs)\u001b[0m\n\u001b[1;32m    548\u001b[0m             \u001b[0mresult\u001b[0m \u001b[0;34m=\u001b[0m \u001b[0mself\u001b[0m\u001b[0;34m.\u001b[0m\u001b[0m_slow_forward\u001b[0m\u001b[0;34m(\u001b[0m\u001b[0;34m*\u001b[0m\u001b[0minput\u001b[0m\u001b[0;34m,\u001b[0m \u001b[0;34m**\u001b[0m\u001b[0mkwargs\u001b[0m\u001b[0;34m)\u001b[0m\u001b[0;34m\u001b[0m\u001b[0;34m\u001b[0m\u001b[0m\n\u001b[1;32m    549\u001b[0m         \u001b[0;32melse\u001b[0m\u001b[0;34m:\u001b[0m\u001b[0;34m\u001b[0m\u001b[0;34m\u001b[0m\u001b[0m\n\u001b[0;32m--> 550\u001b[0;31m             \u001b[0mresult\u001b[0m \u001b[0;34m=\u001b[0m \u001b[0mself\u001b[0m\u001b[0;34m.\u001b[0m\u001b[0mforward\u001b[0m\u001b[0;34m(\u001b[0m\u001b[0;34m*\u001b[0m\u001b[0minput\u001b[0m\u001b[0;34m,\u001b[0m \u001b[0;34m**\u001b[0m\u001b[0mkwargs\u001b[0m\u001b[0;34m)\u001b[0m\u001b[0;34m\u001b[0m\u001b[0;34m\u001b[0m\u001b[0m\n\u001b[0m\u001b[1;32m    551\u001b[0m         \u001b[0;32mfor\u001b[0m \u001b[0mhook\u001b[0m \u001b[0;32min\u001b[0m \u001b[0mself\u001b[0m\u001b[0;34m.\u001b[0m\u001b[0m_forward_hooks\u001b[0m\u001b[0;34m.\u001b[0m\u001b[0mvalues\u001b[0m\u001b[0;34m(\u001b[0m\u001b[0;34m)\u001b[0m\u001b[0;34m:\u001b[0m\u001b[0;34m\u001b[0m\u001b[0;34m\u001b[0m\u001b[0m\n\u001b[1;32m    552\u001b[0m             \u001b[0mhook_result\u001b[0m \u001b[0;34m=\u001b[0m \u001b[0mhook\u001b[0m\u001b[0;34m(\u001b[0m\u001b[0mself\u001b[0m\u001b[0;34m,\u001b[0m \u001b[0minput\u001b[0m\u001b[0;34m,\u001b[0m \u001b[0mresult\u001b[0m\u001b[0;34m)\u001b[0m\u001b[0;34m\u001b[0m\u001b[0;34m\u001b[0m\u001b[0m\n",
      "\u001b[0;32m/usr/local/lib/python3.6/dist-packages/transformers/modeling_bert.py\u001b[0m in \u001b[0;36mforward\u001b[0;34m(self, input_ids, attention_mask, token_type_ids, position_ids, head_mask, inputs_embeds, masked_lm_labels, encoder_hidden_states, encoder_attention_mask, lm_labels)\u001b[0m\n\u001b[1;32m    935\u001b[0m \u001b[0;34m\u001b[0m\u001b[0m\n\u001b[1;32m    936\u001b[0m         \u001b[0msequence_output\u001b[0m \u001b[0;34m=\u001b[0m \u001b[0moutputs\u001b[0m\u001b[0;34m[\u001b[0m\u001b[0;36m0\u001b[0m\u001b[0;34m]\u001b[0m\u001b[0;34m\u001b[0m\u001b[0;34m\u001b[0m\u001b[0m\n\u001b[0;32m--> 937\u001b[0;31m         \u001b[0mprediction_scores\u001b[0m \u001b[0;34m=\u001b[0m \u001b[0mself\u001b[0m\u001b[0;34m.\u001b[0m\u001b[0mcls\u001b[0m\u001b[0;34m(\u001b[0m\u001b[0msequence_output\u001b[0m\u001b[0;34m)\u001b[0m\u001b[0;34m\u001b[0m\u001b[0;34m\u001b[0m\u001b[0m\n\u001b[0m\u001b[1;32m    938\u001b[0m \u001b[0;34m\u001b[0m\u001b[0m\n\u001b[1;32m    939\u001b[0m         \u001b[0moutputs\u001b[0m \u001b[0;34m=\u001b[0m \u001b[0;34m(\u001b[0m\u001b[0mprediction_scores\u001b[0m\u001b[0;34m,\u001b[0m\u001b[0;34m)\u001b[0m \u001b[0;34m+\u001b[0m \u001b[0moutputs\u001b[0m\u001b[0;34m[\u001b[0m\u001b[0;36m2\u001b[0m\u001b[0;34m:\u001b[0m\u001b[0;34m]\u001b[0m  \u001b[0;31m# Add hidden states and attention if they are here\u001b[0m\u001b[0;34m\u001b[0m\u001b[0;34m\u001b[0m\u001b[0m\n",
      "\u001b[0;32m/usr/local/lib/python3.6/dist-packages/torch/nn/modules/module.py\u001b[0m in \u001b[0;36m__call__\u001b[0;34m(self, *input, **kwargs)\u001b[0m\n\u001b[1;32m    548\u001b[0m             \u001b[0mresult\u001b[0m \u001b[0;34m=\u001b[0m \u001b[0mself\u001b[0m\u001b[0;34m.\u001b[0m\u001b[0m_slow_forward\u001b[0m\u001b[0;34m(\u001b[0m\u001b[0;34m*\u001b[0m\u001b[0minput\u001b[0m\u001b[0;34m,\u001b[0m \u001b[0;34m**\u001b[0m\u001b[0mkwargs\u001b[0m\u001b[0;34m)\u001b[0m\u001b[0;34m\u001b[0m\u001b[0;34m\u001b[0m\u001b[0m\n\u001b[1;32m    549\u001b[0m         \u001b[0;32melse\u001b[0m\u001b[0;34m:\u001b[0m\u001b[0;34m\u001b[0m\u001b[0;34m\u001b[0m\u001b[0m\n\u001b[0;32m--> 550\u001b[0;31m             \u001b[0mresult\u001b[0m \u001b[0;34m=\u001b[0m \u001b[0mself\u001b[0m\u001b[0;34m.\u001b[0m\u001b[0mforward\u001b[0m\u001b[0;34m(\u001b[0m\u001b[0;34m*\u001b[0m\u001b[0minput\u001b[0m\u001b[0;34m,\u001b[0m \u001b[0;34m**\u001b[0m\u001b[0mkwargs\u001b[0m\u001b[0;34m)\u001b[0m\u001b[0;34m\u001b[0m\u001b[0;34m\u001b[0m\u001b[0m\n\u001b[0m\u001b[1;32m    551\u001b[0m         \u001b[0;32mfor\u001b[0m \u001b[0mhook\u001b[0m \u001b[0;32min\u001b[0m \u001b[0mself\u001b[0m\u001b[0;34m.\u001b[0m\u001b[0m_forward_hooks\u001b[0m\u001b[0;34m.\u001b[0m\u001b[0mvalues\u001b[0m\u001b[0;34m(\u001b[0m\u001b[0;34m)\u001b[0m\u001b[0;34m:\u001b[0m\u001b[0;34m\u001b[0m\u001b[0;34m\u001b[0m\u001b[0m\n\u001b[1;32m    552\u001b[0m             \u001b[0mhook_result\u001b[0m \u001b[0;34m=\u001b[0m \u001b[0mhook\u001b[0m\u001b[0;34m(\u001b[0m\u001b[0mself\u001b[0m\u001b[0;34m,\u001b[0m \u001b[0minput\u001b[0m\u001b[0;34m,\u001b[0m \u001b[0mresult\u001b[0m\u001b[0;34m)\u001b[0m\u001b[0;34m\u001b[0m\u001b[0;34m\u001b[0m\u001b[0m\n",
      "\u001b[0;32m/usr/local/lib/python3.6/dist-packages/transformers/modeling_bert.py\u001b[0m in \u001b[0;36mforward\u001b[0;34m(self, sequence_output)\u001b[0m\n\u001b[1;32m    482\u001b[0m \u001b[0;34m\u001b[0m\u001b[0m\n\u001b[1;32m    483\u001b[0m     \u001b[0;32mdef\u001b[0m \u001b[0mforward\u001b[0m\u001b[0;34m(\u001b[0m\u001b[0mself\u001b[0m\u001b[0;34m,\u001b[0m \u001b[0msequence_output\u001b[0m\u001b[0;34m)\u001b[0m\u001b[0;34m:\u001b[0m\u001b[0;34m\u001b[0m\u001b[0;34m\u001b[0m\u001b[0m\n\u001b[0;32m--> 484\u001b[0;31m         \u001b[0mprediction_scores\u001b[0m \u001b[0;34m=\u001b[0m \u001b[0mself\u001b[0m\u001b[0;34m.\u001b[0m\u001b[0mpredictions\u001b[0m\u001b[0;34m(\u001b[0m\u001b[0msequence_output\u001b[0m\u001b[0;34m)\u001b[0m\u001b[0;34m\u001b[0m\u001b[0;34m\u001b[0m\u001b[0m\n\u001b[0m\u001b[1;32m    485\u001b[0m         \u001b[0;32mreturn\u001b[0m \u001b[0mprediction_scores\u001b[0m\u001b[0;34m\u001b[0m\u001b[0;34m\u001b[0m\u001b[0m\n\u001b[1;32m    486\u001b[0m \u001b[0;34m\u001b[0m\u001b[0m\n",
      "\u001b[0;32m/usr/local/lib/python3.6/dist-packages/torch/nn/modules/module.py\u001b[0m in \u001b[0;36m__call__\u001b[0;34m(self, *input, **kwargs)\u001b[0m\n\u001b[1;32m    548\u001b[0m             \u001b[0mresult\u001b[0m \u001b[0;34m=\u001b[0m \u001b[0mself\u001b[0m\u001b[0;34m.\u001b[0m\u001b[0m_slow_forward\u001b[0m\u001b[0;34m(\u001b[0m\u001b[0;34m*\u001b[0m\u001b[0minput\u001b[0m\u001b[0;34m,\u001b[0m \u001b[0;34m**\u001b[0m\u001b[0mkwargs\u001b[0m\u001b[0;34m)\u001b[0m\u001b[0;34m\u001b[0m\u001b[0;34m\u001b[0m\u001b[0m\n\u001b[1;32m    549\u001b[0m         \u001b[0;32melse\u001b[0m\u001b[0;34m:\u001b[0m\u001b[0;34m\u001b[0m\u001b[0;34m\u001b[0m\u001b[0m\n\u001b[0;32m--> 550\u001b[0;31m             \u001b[0mresult\u001b[0m \u001b[0;34m=\u001b[0m \u001b[0mself\u001b[0m\u001b[0;34m.\u001b[0m\u001b[0mforward\u001b[0m\u001b[0;34m(\u001b[0m\u001b[0;34m*\u001b[0m\u001b[0minput\u001b[0m\u001b[0;34m,\u001b[0m \u001b[0;34m**\u001b[0m\u001b[0mkwargs\u001b[0m\u001b[0;34m)\u001b[0m\u001b[0;34m\u001b[0m\u001b[0;34m\u001b[0m\u001b[0m\n\u001b[0m\u001b[1;32m    551\u001b[0m         \u001b[0;32mfor\u001b[0m \u001b[0mhook\u001b[0m \u001b[0;32min\u001b[0m \u001b[0mself\u001b[0m\u001b[0;34m.\u001b[0m\u001b[0m_forward_hooks\u001b[0m\u001b[0;34m.\u001b[0m\u001b[0mvalues\u001b[0m\u001b[0;34m(\u001b[0m\u001b[0;34m)\u001b[0m\u001b[0;34m:\u001b[0m\u001b[0;34m\u001b[0m\u001b[0;34m\u001b[0m\u001b[0m\n\u001b[1;32m    552\u001b[0m             \u001b[0mhook_result\u001b[0m \u001b[0;34m=\u001b[0m \u001b[0mhook\u001b[0m\u001b[0;34m(\u001b[0m\u001b[0mself\u001b[0m\u001b[0;34m,\u001b[0m \u001b[0minput\u001b[0m\u001b[0;34m,\u001b[0m \u001b[0mresult\u001b[0m\u001b[0;34m)\u001b[0m\u001b[0;34m\u001b[0m\u001b[0;34m\u001b[0m\u001b[0m\n",
      "\u001b[0;32m/usr/local/lib/python3.6/dist-packages/transformers/modeling_bert.py\u001b[0m in \u001b[0;36mforward\u001b[0;34m(self, hidden_states)\u001b[0m\n\u001b[1;32m    472\u001b[0m     \u001b[0;32mdef\u001b[0m \u001b[0mforward\u001b[0m\u001b[0;34m(\u001b[0m\u001b[0mself\u001b[0m\u001b[0;34m,\u001b[0m \u001b[0mhidden_states\u001b[0m\u001b[0;34m)\u001b[0m\u001b[0;34m:\u001b[0m\u001b[0;34m\u001b[0m\u001b[0;34m\u001b[0m\u001b[0m\n\u001b[1;32m    473\u001b[0m         \u001b[0mhidden_states\u001b[0m \u001b[0;34m=\u001b[0m \u001b[0mself\u001b[0m\u001b[0;34m.\u001b[0m\u001b[0mtransform\u001b[0m\u001b[0;34m(\u001b[0m\u001b[0mhidden_states\u001b[0m\u001b[0;34m)\u001b[0m\u001b[0;34m\u001b[0m\u001b[0;34m\u001b[0m\u001b[0m\n\u001b[0;32m--> 474\u001b[0;31m         \u001b[0mhidden_states\u001b[0m \u001b[0;34m=\u001b[0m \u001b[0mself\u001b[0m\u001b[0;34m.\u001b[0m\u001b[0mdecoder\u001b[0m\u001b[0;34m(\u001b[0m\u001b[0mhidden_states\u001b[0m\u001b[0;34m)\u001b[0m\u001b[0;34m\u001b[0m\u001b[0;34m\u001b[0m\u001b[0m\n\u001b[0m\u001b[1;32m    475\u001b[0m         \u001b[0;32mreturn\u001b[0m \u001b[0mhidden_states\u001b[0m\u001b[0;34m\u001b[0m\u001b[0;34m\u001b[0m\u001b[0m\n\u001b[1;32m    476\u001b[0m \u001b[0;34m\u001b[0m\u001b[0m\n",
      "\u001b[0;32m/usr/local/lib/python3.6/dist-packages/torch/nn/modules/module.py\u001b[0m in \u001b[0;36m__call__\u001b[0;34m(self, *input, **kwargs)\u001b[0m\n\u001b[1;32m    548\u001b[0m             \u001b[0mresult\u001b[0m \u001b[0;34m=\u001b[0m \u001b[0mself\u001b[0m\u001b[0;34m.\u001b[0m\u001b[0m_slow_forward\u001b[0m\u001b[0;34m(\u001b[0m\u001b[0;34m*\u001b[0m\u001b[0minput\u001b[0m\u001b[0;34m,\u001b[0m \u001b[0;34m**\u001b[0m\u001b[0mkwargs\u001b[0m\u001b[0;34m)\u001b[0m\u001b[0;34m\u001b[0m\u001b[0;34m\u001b[0m\u001b[0m\n\u001b[1;32m    549\u001b[0m         \u001b[0;32melse\u001b[0m\u001b[0;34m:\u001b[0m\u001b[0;34m\u001b[0m\u001b[0;34m\u001b[0m\u001b[0m\n\u001b[0;32m--> 550\u001b[0;31m             \u001b[0mresult\u001b[0m \u001b[0;34m=\u001b[0m \u001b[0mself\u001b[0m\u001b[0;34m.\u001b[0m\u001b[0mforward\u001b[0m\u001b[0;34m(\u001b[0m\u001b[0;34m*\u001b[0m\u001b[0minput\u001b[0m\u001b[0;34m,\u001b[0m \u001b[0;34m**\u001b[0m\u001b[0mkwargs\u001b[0m\u001b[0;34m)\u001b[0m\u001b[0;34m\u001b[0m\u001b[0;34m\u001b[0m\u001b[0m\n\u001b[0m\u001b[1;32m    551\u001b[0m         \u001b[0;32mfor\u001b[0m \u001b[0mhook\u001b[0m \u001b[0;32min\u001b[0m \u001b[0mself\u001b[0m\u001b[0;34m.\u001b[0m\u001b[0m_forward_hooks\u001b[0m\u001b[0;34m.\u001b[0m\u001b[0mvalues\u001b[0m\u001b[0;34m(\u001b[0m\u001b[0;34m)\u001b[0m\u001b[0;34m:\u001b[0m\u001b[0;34m\u001b[0m\u001b[0;34m\u001b[0m\u001b[0m\n\u001b[1;32m    552\u001b[0m             \u001b[0mhook_result\u001b[0m \u001b[0;34m=\u001b[0m \u001b[0mhook\u001b[0m\u001b[0;34m(\u001b[0m\u001b[0mself\u001b[0m\u001b[0;34m,\u001b[0m \u001b[0minput\u001b[0m\u001b[0;34m,\u001b[0m \u001b[0mresult\u001b[0m\u001b[0;34m)\u001b[0m\u001b[0;34m\u001b[0m\u001b[0;34m\u001b[0m\u001b[0m\n",
      "\u001b[0;32m/usr/local/lib/python3.6/dist-packages/torch/nn/modules/linear.py\u001b[0m in \u001b[0;36mforward\u001b[0;34m(self, input)\u001b[0m\n\u001b[1;32m     85\u001b[0m \u001b[0;34m\u001b[0m\u001b[0m\n\u001b[1;32m     86\u001b[0m     \u001b[0;32mdef\u001b[0m \u001b[0mforward\u001b[0m\u001b[0;34m(\u001b[0m\u001b[0mself\u001b[0m\u001b[0;34m,\u001b[0m \u001b[0minput\u001b[0m\u001b[0;34m)\u001b[0m\u001b[0;34m:\u001b[0m\u001b[0;34m\u001b[0m\u001b[0;34m\u001b[0m\u001b[0m\n\u001b[0;32m---> 87\u001b[0;31m         \u001b[0;32mreturn\u001b[0m \u001b[0mF\u001b[0m\u001b[0;34m.\u001b[0m\u001b[0mlinear\u001b[0m\u001b[0;34m(\u001b[0m\u001b[0minput\u001b[0m\u001b[0;34m,\u001b[0m \u001b[0mself\u001b[0m\u001b[0;34m.\u001b[0m\u001b[0mweight\u001b[0m\u001b[0;34m,\u001b[0m \u001b[0mself\u001b[0m\u001b[0;34m.\u001b[0m\u001b[0mbias\u001b[0m\u001b[0;34m)\u001b[0m\u001b[0;34m\u001b[0m\u001b[0;34m\u001b[0m\u001b[0m\n\u001b[0m\u001b[1;32m     88\u001b[0m \u001b[0;34m\u001b[0m\u001b[0m\n\u001b[1;32m     89\u001b[0m     \u001b[0;32mdef\u001b[0m \u001b[0mextra_repr\u001b[0m\u001b[0;34m(\u001b[0m\u001b[0mself\u001b[0m\u001b[0;34m)\u001b[0m\u001b[0;34m:\u001b[0m\u001b[0;34m\u001b[0m\u001b[0;34m\u001b[0m\u001b[0m\n",
      "\u001b[0;32m/usr/local/lib/python3.6/dist-packages/torch/nn/functional.py\u001b[0m in \u001b[0;36mlinear\u001b[0;34m(input, weight, bias)\u001b[0m\n\u001b[1;32m   1610\u001b[0m         \u001b[0mret\u001b[0m \u001b[0;34m=\u001b[0m \u001b[0mtorch\u001b[0m\u001b[0;34m.\u001b[0m\u001b[0maddmm\u001b[0m\u001b[0;34m(\u001b[0m\u001b[0mbias\u001b[0m\u001b[0;34m,\u001b[0m \u001b[0minput\u001b[0m\u001b[0;34m,\u001b[0m \u001b[0mweight\u001b[0m\u001b[0;34m.\u001b[0m\u001b[0mt\u001b[0m\u001b[0;34m(\u001b[0m\u001b[0;34m)\u001b[0m\u001b[0;34m)\u001b[0m\u001b[0;34m\u001b[0m\u001b[0;34m\u001b[0m\u001b[0m\n\u001b[1;32m   1611\u001b[0m     \u001b[0;32melse\u001b[0m\u001b[0;34m:\u001b[0m\u001b[0;34m\u001b[0m\u001b[0;34m\u001b[0m\u001b[0m\n\u001b[0;32m-> 1612\u001b[0;31m         \u001b[0moutput\u001b[0m \u001b[0;34m=\u001b[0m \u001b[0minput\u001b[0m\u001b[0;34m.\u001b[0m\u001b[0mmatmul\u001b[0m\u001b[0;34m(\u001b[0m\u001b[0mweight\u001b[0m\u001b[0;34m.\u001b[0m\u001b[0mt\u001b[0m\u001b[0;34m(\u001b[0m\u001b[0;34m)\u001b[0m\u001b[0;34m)\u001b[0m\u001b[0;34m\u001b[0m\u001b[0;34m\u001b[0m\u001b[0m\n\u001b[0m\u001b[1;32m   1613\u001b[0m         \u001b[0;32mif\u001b[0m \u001b[0mbias\u001b[0m \u001b[0;32mis\u001b[0m \u001b[0;32mnot\u001b[0m \u001b[0;32mNone\u001b[0m\u001b[0;34m:\u001b[0m\u001b[0;34m\u001b[0m\u001b[0;34m\u001b[0m\u001b[0m\n\u001b[1;32m   1614\u001b[0m             \u001b[0moutput\u001b[0m \u001b[0;34m+=\u001b[0m \u001b[0mbias\u001b[0m\u001b[0;34m\u001b[0m\u001b[0;34m\u001b[0m\u001b[0m\n",
      "\u001b[0;31mKeyboardInterrupt\u001b[0m: "
     ]
    }
   ],
   "source": [
    "from progressbar import ProgressBar\n",
    "\n",
    "pbar = ProgressBar()\n",
    "\n",
    "augumented = []\n",
    "for s in pbar(splitter(10, text)):\n",
    "    try:\n",
    "        augumented.append(aug.augment(s))\n",
    "    except ValueError:\n",
    "        pass"
   ]
  },
  {
   "cell_type": "code",
   "execution_count": 0,
   "metadata": {
    "colab": {},
    "colab_type": "code",
    "id": "XGPernUcQKHf",
    "slideshow": {
     "slide_type": "slide"
    }
   },
   "outputs": [],
   "source": [
    "pbar = ProgressBar()\n",
    "for s in pbar(splitter(10, text)):\n",
    "    try:\n",
    "        augumented_fasttext.append(aug.augment(s))\n",
    "    except ValueError:\n",
    "        pass"
   ]
  },
  {
   "cell_type": "code",
   "execution_count": 0,
   "metadata": {
    "colab": {},
    "colab_type": "code",
    "id": "GEMhl_6HP6oO",
    "slideshow": {
     "slide_type": "slide"
    }
   },
   "outputs": [],
   "source": [
    "augumented_text = str(\" \".join(augumented)).replace(\"#\", \"\") + str(\n",
    "    \" \".join(augumented_fasttext)\n",
    ").replace(\"#\", \"\")\n",
    "corpus = text + augumented_text\n",
    "print(\n",
    "    f\"len text : {len(text)}, Length of Augmumnted = {len(str(' '.join(augumented)).replace('#', ''))}, Length of FasttextAUG = {len(str(' '.join(augumented_fasttext)).replace('#', ''))}\"\n",
    ")\n",
    "print(f\"Percentage of Orignal Text : {len(text)*100/len(corpus)}\")\n",
    "print(f\"Percentage of Augumented Text : {len(augumented_text)*100/len(corpus)}\")\n",
    "\n",
    "# write a text file for the whole corpus\n",
    "text_file = open(\"am_corpus.txt\", \"w\")\n",
    "text_file.write(corpus)\n",
    "text_file.close()\n",
    "\n",
    "# write a txt file for just the original dataset\n",
    "text_file = open(\"am_corpus_original.txt\", \"w\")\n",
    "text_file.write(text)\n",
    "text_file.close()"
   ]
  }
 ],
 "metadata": {
  "celltoolbar": "Slideshow",
  "colab": {
   "authorship_tag": "ABX9TyPQmpSXiGEg14wqc0/6AiPI",
   "include_colab_link": true,
   "name": "Data-AMLyricGenerator.ipynb",
   "provenance": []
  },
  "kernelspec": {
   "display_name": "Python 3",
   "language": "python",
   "name": "python3"
  },
  "language_info": {
   "codemirror_mode": {
    "name": "ipython",
    "version": 3
   },
   "file_extension": ".py",
   "mimetype": "text/x-python",
   "name": "python",
   "nbconvert_exporter": "python",
   "pygments_lexer": "ipython3",
   "version": "3.7.3"
  }
 },
 "nbformat": 4,
 "nbformat_minor": 1
}
